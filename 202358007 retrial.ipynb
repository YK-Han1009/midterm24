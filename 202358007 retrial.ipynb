{
  "nbformat": 4,
  "nbformat_minor": 0,
  "metadata": {
    "colab": {
      "provenance": [],
      "authorship_tag": "ABX9TyPzwGPa+zHN3gKv+pU5soSu",
      "include_colab_link": true
    },
    "kernelspec": {
      "name": "python3",
      "display_name": "Python 3"
    },
    "language_info": {
      "name": "python"
    }
  },
  "cells": [
    {
      "cell_type": "markdown",
      "metadata": {
        "id": "view-in-github",
        "colab_type": "text"
      },
      "source": [
        "<a href=\"https://colab.research.google.com/github/YK-Han1009/midterm24/blob/main/202358007%20retrial.ipynb\" target=\"_parent\"><img src=\"https://colab.research.google.com/assets/colab-badge.svg\" alt=\"Open In Colab\"/></a>"
      ]
    },
    {
      "cell_type": "markdown",
      "source": [
        "# 🌀Midterm 2024: Yunkyeong Han (202358007)"
      ],
      "metadata": {
        "id": "UXiv1xTYuzx9"
      }
    },
    {
      "cell_type": "markdown",
      "source": [
        "## Name Question"
      ],
      "metadata": {
        "id": "mRgcnnktrX65"
      }
    },
    {
      "cell_type": "code",
      "source": [
        "# Name question\n",
        "x = \"My name is\"\n",
        "y = \"Yunkyeong\"\n",
        "print(x,y)"
      ],
      "metadata": {
        "colab": {
          "base_uri": "https://localhost:8080/"
        },
        "id": "_Y8p0hNhv1at",
        "outputId": "1b8ec8a5-2a8d-4ea1-c487-959db4902131"
      },
      "execution_count": 1,
      "outputs": [
        {
          "output_type": "stream",
          "name": "stdout",
          "text": [
            "My name is Yunkyeong\n"
          ]
        }
      ]
    },
    {
      "cell_type": "markdown",
      "source": [
        "## Variable Question"
      ],
      "metadata": {
        "id": "7tef6pmVyPLa"
      }
    },
    {
      "cell_type": "code",
      "source": [
        "# 'Mary, 1998, Ohio; and John, 1999, Boston.'\n",
        "x = input('Name: ');y = input('Year you were born: '); z = input('Place you were born: ')\n",
        "print(x)\n",
        "print(y)\n",
        "print(z)\n",
        "print(f\"Hello, my name is {x}. I was born in {y}, and I'm from {z}. Nice to meet you.\")\n",
        "\n"
      ],
      "metadata": {
        "colab": {
          "base_uri": "https://localhost:8080/"
        },
        "id": "Qa3osBFwyRtf",
        "outputId": "100bf392-3e1a-49cc-cf16-0337ad7cfe2c"
      },
      "execution_count": 2,
      "outputs": [
        {
          "output_type": "stream",
          "name": "stdout",
          "text": [
            "Name: Mary\n",
            "Year you were born: 1998\n",
            "Place you were born: Ohio\n",
            "Mary\n",
            "1998\n",
            "Ohio\n",
            "Hello, my name is Mary. I was born in 1998, and I'm from Ohio. Nice to meet you.\n"
          ]
        }
      ]
    },
    {
      "cell_type": "markdown",
      "source": [
        "## Index Qeustion"
      ],
      "metadata": {
        "id": "aQN9RGJA07SB"
      }
    },
    {
      "cell_type": "code",
      "source": [
        "# Dropdown\n",
        "\n",
        "cardinal_number = \"1\" #@param [\"1\",\"2\",\"3\",\"4\"]\n",
        "\n",
        "# Convert the selected number to an integer\n",
        "cardinal_number = int(cardinal_number)\n",
        "\n",
        "# Ordinal expression as a list\n",
        "words = [\"First\", \"Second\", \"Third\", \"Fourth\"]\n",
        "\n",
        "# Adjust the index to match the dropdown selection\n",
        "ordinal_index = cardinal_number - 1\n",
        "\n",
        "print(\"The ordinal expression:\", words[ordinal_index])\n"
      ],
      "metadata": {
        "colab": {
          "base_uri": "https://localhost:8080/"
        },
        "id": "sFyQNXG34EPU",
        "outputId": "fdbb3e86-d84f-4c43-85e0-89b0f29440bb"
      },
      "execution_count": 3,
      "outputs": [
        {
          "output_type": "stream",
          "name": "stdout",
          "text": [
            "The ordinal expression: First\n"
          ]
        }
      ]
    },
    {
      "cell_type": "markdown",
      "source": [
        "## Function Question"
      ],
      "metadata": {
        "id": "574cG6tJ4Lo8"
      }
    },
    {
      "cell_type": "code",
      "source": [
        "# Define a function for division\n",
        "def divide(x, y):\n",
        "    return x / y\n",
        "\n",
        "# Test the function\n",
        "result = divide(20, 4)\n",
        "print(\"The result of division is:\", result)\n"
      ],
      "metadata": {
        "colab": {
          "base_uri": "https://localhost:8080/"
        },
        "id": "qMRPBOzx5GHJ",
        "outputId": "27374cd9-313b-477f-e360-29099cfce121"
      },
      "execution_count": 4,
      "outputs": [
        {
          "output_type": "stream",
          "name": "stdout",
          "text": [
            "The result of division is: 5.0\n"
          ]
        }
      ]
    },
    {
      "cell_type": "markdown",
      "source": [
        "## Dictionary Question"
      ],
      "metadata": {
        "id": "HmK4C9cF5OOP"
      }
    },
    {
      "cell_type": "code",
      "source": [
        "student_grades = {\"Alice\": 90, \"Bob\": 80, \"Charlie\": 95}\n",
        "\n",
        "# Print Bob's grade\n",
        "print(student_grades[\"Bob\"])\n"
      ],
      "metadata": {
        "colab": {
          "base_uri": "https://localhost:8080/"
        },
        "id": "SIJn51qt5Tpk",
        "outputId": "013d88bd-e384-4caa-f1ad-1fd700a2624f"
      },
      "execution_count": 5,
      "outputs": [
        {
          "output_type": "stream",
          "name": "stdout",
          "text": [
            "80\n"
          ]
        }
      ]
    },
    {
      "cell_type": "markdown",
      "source": [
        "## GTTS Question"
      ],
      "metadata": {
        "id": "F9IbFNDO7UUu"
      }
    },
    {
      "cell_type": "code",
      "source": [
        "# First, install the gTTS library if you haven't already\n",
        "!pip install gTTS\n",
        "\n",
        "# Import the gTTS library\n",
        "from gtts import gTTS\n",
        "\n",
        "# Import IPython display module\n",
        "from IPython.display import Audio, display"
      ],
      "metadata": {
        "colab": {
          "base_uri": "https://localhost:8080/"
        },
        "id": "mWUu-fJl7lX_",
        "outputId": "dbdb543a-f8d9-45af-809e-bc794faad261"
      },
      "execution_count": 6,
      "outputs": [
        {
          "output_type": "stream",
          "name": "stdout",
          "text": [
            "Collecting gTTS\n",
            "  Downloading gTTS-2.5.1-py3-none-any.whl (29 kB)\n",
            "Requirement already satisfied: requests<3,>=2.27 in /usr/local/lib/python3.10/dist-packages (from gTTS) (2.31.0)\n",
            "Requirement already satisfied: click<8.2,>=7.1 in /usr/local/lib/python3.10/dist-packages (from gTTS) (8.1.7)\n",
            "Requirement already satisfied: charset-normalizer<4,>=2 in /usr/local/lib/python3.10/dist-packages (from requests<3,>=2.27->gTTS) (3.3.2)\n",
            "Requirement already satisfied: idna<4,>=2.5 in /usr/local/lib/python3.10/dist-packages (from requests<3,>=2.27->gTTS) (3.7)\n",
            "Requirement already satisfied: urllib3<3,>=1.21.1 in /usr/local/lib/python3.10/dist-packages (from requests<3,>=2.27->gTTS) (2.0.7)\n",
            "Requirement already satisfied: certifi>=2017.4.17 in /usr/local/lib/python3.10/dist-packages (from requests<3,>=2.27->gTTS) (2024.2.2)\n",
            "Installing collected packages: gTTS\n",
            "Successfully installed gTTS-2.5.1\n"
          ]
        }
      ]
    },
    {
      "cell_type": "code",
      "source": [
        "# Text to be converted to speech\n",
        "text = input()\n",
        "\n",
        "# Language in which you want to convert\n",
        "language = 'en'\n",
        "\n",
        "# Pass the text and language to the gTTS module\n",
        "speech = gTTS(text = text, lang = language, slow = False)\n",
        "\n",
        "# Save the converted audio file\n",
        "speech.save(\"output.mp3\")\n",
        "\n",
        "# Display the audio directly in the notebook\n",
        "display(Audio(\"output.mp3\", autoplay=True))"
      ],
      "metadata": {
        "colab": {
          "base_uri": "https://localhost:8080/",
          "height": 94
        },
        "id": "vgbYBvFC7q6E",
        "outputId": "f2afc08b-7f4e-42de-aee4-665db2f90a39"
      },
      "execution_count": 7,
      "outputs": [
        {
          "name": "stdout",
          "output_type": "stream",
          "text": [
            "Wow, it works really well\n"
          ]
        },
        {
          "output_type": "display_data",
          "data": {
            "text/plain": [
              "<IPython.lib.display.Audio object>"
            ],
            "text/html": [
              "\n",
              "                <audio  controls=\"controls\" autoplay=\"autoplay\">\n",
              "                    <source src=\"data:audio/mpeg;base64,//NExAAAAANIAUAAAP8sgYAMe4IBTHeg4YHAyYaDgn/Kocel/eE7mAPQj43PdhxUL/20IM3/9J6qv9t+VOeKu/LvWBCA4d/OUPnxIkOBUj/+f45UKCppSlNTDwCBgBLA//NExFMSmWJEAZo4AJjOpSK/oa3BhjohGDgicWxhuIWmDBki8YJDYEGxEcAwLGDAESAwxEIAMDEIILb6KSRxIhCYfwYOPLTDN2KHT3zcKCZM4upxlyygoZDGwnNBEIEg//NExFsccNZIAdwwAMPKIUEiiItpT/sbRddkObTcsk40tFBSC4Bw42Jl5g4DJwwRBhQBoFAkwnAo0m+CzaAgJcL7lsTWgBCx/HVReEYmlGkgYiFnfy2021xZ37aLRtKR//NExDwSyK5cAO7YTHnSyCCEXnc536EIQ/o1dVUaCDXWqBcFmIIEdYVpi4JGBhIHA0wIGzpLSMFBlAc2VfBz7E4K94fUeAhQ8lIKGnhecxN9gmnuyi7chvtJd7HMc8NY//NExEMX6YJgAOZElGGeV6zvepkqdPdqu6naX18wti4puqi3sR////9SeRLhfyFJhePhwWj5iSBJgWDbLRGE5qgyYCYcrABLt3SDiawNDcynIOkDRjXOpK9dVusuTDGo//NExDYYoYZkAO6GlHMcsrF/eWfcMOfjSINVqq6nCiheuReXZsiq+WzwO94vGEYyGixNH/////t+qgQAroQCksQB6YDL8BAfMHwDS6MDwIMIKUCFmCBUIgDfUKCznB7c//NExCYcCbZsAO6OlD61BIcYqkahAiapzRNgQH2r1maYnnjeuSjDuf1sMtayF/lWOopBTlVS/UmyR8C/cqZ5CckQk0SKi17k9WHS0oN//R//l1VNtYf11ZRrmabhlR68//NExAgUqYqUAN5ElIrVSzoirjcwFOh3HIbGZqaecNxa6YWxg1iAxICYdMxhk9S+cevOBOz+H3JZn3/3//7erer9RaNUWc9iv1+dep6LFv/WH/b/////UtY/t6jFUaBG//NExAgTcSasAM4WcLOkBqR3huvYyrvIf1s5t3kQgE9h8qh6LJPjfFkNPgSXA+CUIBA4qCAOirhxufvdL7/Yyvtj/cdN3nVGB97/VrWTFk/+9Cbf/lVJWqttcwoyTEOc//NExA0VAZKwAMZKlM8KME/A5uaxrqUmAckhl28tJ2Z+xlXQmjxEXrclT5l4GSb+ZpKcXSIgJPmGh89CiwEYTIAQpnUh+VUJmXqxiajCJWmr8pJIvphhECYa7BxSh8H8//NExAwU0Rq0AIYecOyyUGXQ8ifxxZEF4pJwPK447S7mSTmcWMIt63LFjjBJ4jMbYlc2s+8MUVmZKesCOwR9PVapnVgg4H33crIAZoHImmB/V9lSajR9ZcADTZN0SLDp//NExAsTsSKwAIZecA+dnVtrS8QXo4lWavjAIuKJNuHK6WsuZLhUQYlm4WI4GrJ+q05VfP/GkW5v69Sz7+asSfj70xIcx0eCoJ6Nfw1Td+uiQ6BDwOqC2hWQwREIPzqQ//NExA8V4SaoAJ6ecKdotmbkSuCZoHjGAxknALDQPNz8TaWNFi42iMYk4X4LVpmiNSgOaNX3hqdU/4vtCdbrDVilbt2gMCsL7cYCAeyu3DA9MK7P+Rqu/6FGDVm+o6IW//NExAoRORq4AH4ecH4d5H4gZhJJSm5GQqMR6CDNOqvo6DHWXW4ilG+PlIJeIySIY/mvjv6Rt/0vXXxSHXdsx6R4oQDgd//Tib+VwFpMWHOvFxBVNt27DStAJErCnuWX//NExBgSgMa4AH4ecEdhw4OKjS1guom9AawKlbbsENsWkeIsaHDpIomZ2uFZNxoWw4CTyxUwkswXBso05u/pz/7gwJk1floUUptJ9t0SpZzIJtBARxd646AMcYFg5LmP//NExCESkSa0AMYecBhB1WXqJqofwkomK0WAnbgzO5X1d4m3mub6rrGfu17W+qXz5IcURq/6Fbbyiws4Fz8VImMGyREONI/AYA+QqQuAbA1A9GCXMf4hASUbKfHw9Beg//NExCkRaSK0AHvacS6FTEqD8CfEcpmJsZIKdW1LUqpF0nu9TTJI/pnag+EVhTTJMQoyogj4cRNoQZhyuJQBRCzjxAXBATmURARNifCdC9EmXyYhfguIWQMg0miZTQPp//NExDYSeSawAHvacLM59nZG1GzJLfXVSUYz4e/ttWwr33AEqsZMZJiXehY8jomELJqPoDNK9mbgGPHKy0BJ1IsGTabyA07weoqIAODSfTHU7TZ9fDfiunRDXVMW951s//NExD8SESakAMYWcKa4HGi3M65cwpV4N4gyt71HylPbRDiR6JBiYqidsPOdqMUYlFPVTDQgmGBDCkA/6iZglPeaGAKnIhQ9XnKzzdaHPnPM7WUmVRePE05cumeUd9v9//NExEkSWSqcAMZUcGqU3vAPL+iEo/G0+BknJqYQWPFWTLFzIHli0CYau2IDitNSdNZntM3cOBkx4EhsaOC9zmfO176atnafVBcxhF1DF0wouIf/6Fu1pkxUWJyglTh4//NExFIRwTqUAMZOcIhMOm7hMQYIaNg9w3dmAJpZxA5K0RVKrkqhzjo/oqmGsVk2pVIsigRJg1jPRsv9tdeaqdlcEOqPf2t0AxpG1SoOW6z4weBf6aYy9Aa1wUWTraVI//NExF4SST6EANZEcajiaIOavnPAxImJfsZcJ12/rEJyF76T6zpu3EbP4fz+4fvL/137ad6e/76GdEoo+vPmQ4ZMMIxliCc3/kzAhYNXpnGrzhcYZlAccEXBBAMwIZUU//NExGcSOX54ANZElYkdDMHCoRnwExxbq2qtGlvtKl3yq1r8su9s///3v88v7tzf/7IbeqkNVB8KGFGFbvI1MKaAQczjU6F86CEGmjNmDOnDHgFLQqRLstqiqvVhzZXF//NExHET2YpoANZElIeSNV7Hw1JYXSHN8eLXUF7jcEGTpUBCYqAgK4tEX+WDq5UJBU8Jf1pscphJiXRBvINUmgErnB5GVAkFKuKCr4NRqKWFDInIgcFkCIqAAVDZ2Egq//NExHQSKJJQANYeTCUaSJCJoy81HXREb2HRY91PLflg1OslaWpW7+35BNUfbdDHKEY31Zj/UWxRUgYO2OF3FIQa0E0ivBg+CZRoRgmbEAmCA1bg8QAymMcAXqq06rfW//NExH4SSIoEAHmMTPMXuf+r/+xXd9I0FRnNJJWBBhShRuMFQMKXKicKSkgJTxYChMkaHKIlUGgqRFWIM1sYlI0a1pZLlNFppD1NYVvWwrus0uXbT2//0UiAskNDhg6C//NExIcPeKn8AEpGTATKDYDcJGgMVFBaKgyG4qDJsExU0aBNihYXZFgWfu/NPiAHG1izYqlLqATOVC4rU3+sg6afmqQILN5lH6Q4tDbPppm8eO4TzbEgOGRgsHjYwWNG//NExJwQOHnwADDGSIYSNGpo09Jo0kyCDzJl0y7/mTEFjLhMG3QMZmn0PoNUmcy5Wtn6TLpkzSZdNM0MwtuBnzm6ABawbP6EYZEPycwz/6f+YyGEn/4N4FMKcBgWDP/8//NExK4QsDG8ADGMAFsW3MzP//x4WH557K6f///tMZHdE3//////1cxTCda6/NJiY97AK7gKUMCSHMBzAKgohAA4EVhJ3HBorb5WvpbeHbCW/WWnO7tP7X1jsyU6+sdj//NExL4RODn0AU8YAMZTrUkIhhQVA7KKpE/AYIayID4w8sMks+b5z4o8uvp+L46z11/NpTt7YaMbSPnBkwsGIJhcheZe9v//L7tCXBU3TblupAYEPx4ndR21pGV3ZgAG//NExMwRMyaAAZNQAMEdF0zEQEhIGoqjETdY+ENWMIUry8z1mXKjdq0C2pzEbSzQulUHsQIwUQ0ZAmDxXIGNhaCAhQvnUCdHIVRUVFo2P7FF65SWmo6RZI20bMcaltJc//NExNodabqQAdpgACo0BEn3///Qymra5CqitYw0YYUESVAjdUApwEgPEz0www0w4O7rGGR7HMuPszfvNNys/q62Gj19eM91yNr/wv0DSHHzicDBBXOr5SRRaB8qS6wG//NExLccCbqYANtklAWX1GsoDIdtyyRP9ar2cZzev/Duvud//qcz12zlqrSnAkDMsYWceJHgU5xFV//4Kka3KCay6XjiEpU6BsQOADGRwEWWe+cD0YoU0FeQqMwJLq0B//NExJkfAZaUAN4wlAqWNY5U5Md/61tnjaVazsMQX/nZWmkVAr+OWrCuamkicxbIZ2GtZL8XqHRuJ8a9oUZPH1DisJPTkz5GG181zT/MHec4j//Wr6q3Qfmr3X9ra+fL//NExHAgWdKIAN4elO8j4PNDT/r//1xR99RCJDQ5NUHH1mJIYGmgCjVbMIwMMEhSMzpFMCgJIgDaioM3BOOUz8aCqAROqRYUBHgcgDDqVMgM0pS9TRgSJxZJNZhrKn3S//NExEEfIY50AO5QlBVLaSzjS45fiSHrVIch9OUcw9LB4RqOTk19a51X/+pWFiGayijhiFsh0Fdn/s2f9Z0qBniI8IRpVsKB1VOlmtaSNMMsYwQCRQFAwPmLAOZAeJ1x//NExBcW4RZsAOaKcARloADxd/Gds0kbQXgMGuOieRIXunKxAwoRXcEvrFXapcBU4qCnageJVCuqo7Jl3qz5WEBwvVYzPUxY8xGG//////XUlWIVMMyEIG0RAHCUeCz8//NExA4U8Pp4AOaQcCTphdAHamUCwJMLZrDYGTumwyBGsmSLmhHmLAuVCWEKUMEpbdaHwUCI8FDj+pGdPfPNy6JXRYuFy4pd/+vps/////+hb6WC6ShkhCBwQ1SglsKf//NExA0ViQKIAOZScJUVGQAaxxYes4lqbQSnIQ/067UuHHze+KhaUTiSYCkr3pM5sjEs8nOiefuQjf/6FEdRyKAQzONrZt2/+pbRNiS4z////+qhS4oqt45UsNGZGhWD//NExAkUOOqYAN5ecL254jgaaFMKavxnokIJxHGp8LiEseFiTx6a8bAJpjrXk8zOIHC0/2nIWvTCGTfyE8RnpR8pa1nq3//2qLOb1Mid8n/////qM7H4V2QGRog0CNvO//NExAsUaeKYAN5EmVCQABlkSmZK7FGMRA6mmgf5WSEwzSxi5oz4C+U/D14dJCa4VG9xBHRzO/+KwdNYuxKXOb/f10f1+T////39/cb1a9giXDLSiusazGQSur1girLS//NExAwSYNKYAN5ycOucaaJ5xXOoK1JXzjzbxXC+divVjpiAy2t3IgbOBT6smfhoaTFPqajCAqBKTV+tOsp2f/+zGvGmHLdIkWEqz7zCXmyHDxtq0ii4VqjaVmsDcnAa//NExBURqNaQANYwcKB3rkWsxCHoar4TbVC+V/ssoRwJyW8kqi0hQEq9y5QSpASrDd3lctftr///p2tTVBVdErFvOA6aCoceYIRe14H6Nj07jRdj/ViHKJEx6qWLl74N//NExCERsMpsAMvYcI/nbczKZCjlccikmnhOMntKyqGi6F0yGnf///iJ71en/////vStEIGdFjIBSacLLm6OcpCCAnmuj33TCNGuK0ZGTt0jXIw2KxWCZP7FYJgDgAwX//NExC0WCZZ8AGJQlINx4oH4uHYNw/F3eCxc/lyxd/03d3RETTd0QUREm9CAQdqBA5D/I/////UqNBA7R4XOHhxDlIbql5q35ZzO3B7pLJRirqjGtJKskA53yGu7ELRA//NExCcack6cADJMuUEUYnKk6iNQginvMVeT5t9y3t3jfbwXcZ95it6BaD1nJhewuL2H2Pf7Zew8On2914dN791I2vl/PBHAq/PxG/7+5M4PT/0////6GoUSQxq3QxnL//NExBAVMxKwABCMuDOX2x/T//N7f58+z++TGt3Y7dbKq5LjhcZXjl+E8HIQQ5NJ3Kg2hkVOSOd/FS1u20i62z6zT2M5e7iu3jG2v8b3/nvU8i///////r//////fpS2//NExA4ROwK0AAhKuY9Odq5us7oNRA9ORSmiqIcQBhAqDTB0JCZTKhJXFSiI8hjFNVFJM85XlOQ3RBB7FKgmZii70dE/89f////4D7/8xgRjH5w958nPez9EQApmCQzA//NExBwRuqqwAAhGuR6VeCykFqxNxTjxmIyIMKF/ZDYoYWMcfNm/aN+TaZgmHt3BkoXp+lAq+UwS/61CEdDM/X2WbwKwsxBkbGbWVirAhYoKGZgIMKY42vlhZKt1mFhw//NExCgRkX6kABBGlAgJ4JCUYSXCR4SmQKCoTcCzwMRUZ/q6ZUs9l6uwqmqNHjzK8fAsCMhjcJZKyJkRK+SmZ2BCEgK1TAgcjrhk6nYKDg5GFCqJUlQSBZJJtTw6RqNY//NExDQPkP6QAHjGcImyJB7P/3//Z+SqYVLJ+AAu/DKryrUXWILx4mSkWTNwIRsvzxrMksc1kpgwSWfASgCYjJKdoEAMLoyip/xOKE6NtB0HC1R9pUUY80tFzjdtFnu+//NExEgSeNKEANYScADTm72qdeJziirW2lxCUMf7NmBNysdqhz3blpk12JVHhH2uidC6pBXtTGWITA9y5s6PLYaBbDrXS5NM61sAIcfMG///5D/EAuqrvVeIGGWoREaz//NExFERmM6cANPecEpVY9agGcDLnFokmg1lGmcMTh2sxiwonbjmQp6z2P5HCfB/oLUzczJRRxa4xNDf6YJxzf+jqUd+u82XECL0wKGArBVTMiVCyU7jysGzf5EV3w/3//NExF0RsPqsAMzecP8pXL+/+sqTn9QI2/XmdNzLgFEAjPwWRIYO9SWahOv9ZbYprqMo6Km2GwQ+ybG11UtSy4BqqdIxFDBf5l2OWOC+UiL3f/cUt73+piKcugHgSWJU//NExGkRSRq4AJZScB4Ij64slP9rr+F/+a/1FSDUVfW3fiZxUGXqH0q+goqxznaRkZ4mQqzjKnlN2AiBvzRssgBamt522DYVWd+IcSprFyxR0Ni//5t/1b1L9f3/+IgU//NExHYQWTq4AI5QcNoVH9S/EWnRFlTX9Kf//1dGmpX3dyGTC00rPmGv88wACgYDHCGI0A1np/k3AIh/O2BWEoN9Gp6AWwNQbqpVErPi23msV3r/+iVv////5LIQc842//NExIcRYaaoAMvKlOyiDbP/1aW/uOJaGwAqw1nwMazOuLOIpBesysLuy+6cMhHqGjUrGNmfMyCXTOoW52XMfBd10jDfMtX3vePSHHxd1cMDSeSPhqj6w+6n//Sqx+4x//NExJQRuWaYANvElLMiFHgMeTvEYMnYMneWHnlRGNXgCPptGo1LYWqrdRirGMpBYNPwiBEERoVhkaGSYlCgkC6NGbSUd47CckEHaxMgjcpS9Z8///zM//r2oRCx//26//NExKASSNKkANPecH///rFq1jMIdx7B/aBKczNisp9qILHJrRaTwFNk1P3qvqq39ti8+P2ZnmdtvNkmEgWAnqCDH84TECg+wzMDU8aD0TzS6R5v/620/+eac3Otoo6z//NExKkWoZ6oANJSlD9ds4UIhPDtZpo5gynUG+0AoLhHalPXpu6xy+pYtfhXs6w39Zb5z2UIFEBumHI9iccgRkKzYGaXTRldkQsiwIkRLJREup1wXBX//WqtSN3BDCwm//NExKET6Z6oAMmWlEkEG2AKWMEIdTgAMH7GVBTfB3ahtzXBT6PUMQ3y5PH6cJlVDxpCWAEJmqvcWFTV1JFWy8VmtjGKuNHvZO+sNCx4rXanFNjSloOglqgkmOrX1xsz//NExKQSWRakAM4ScB00OcG1hKdBEUAeFOBAGClig0KFrLqA2gCVWluV5k4lw5Z0+jtMSq3Dnlq54sHTrf/ZQhgHcEgBDJ+4yYEbGmEapWFAA1kZEDoWcWM2gNERjgdR//NExK0SKRKQANvScFAJAmpAtYVQ/OErhEjqU8ip8cbnASJC8MOZE6vyrf/pRSIAe5/DDz47AWXO1gx20O+Nh0kCh5xsAtOIgDJ37FgbxIcgqdCA+R3CFqtlbT2dQVKo//NExLcQ6Jp4AN7eTB5VtZI8k3ak2HHL+SD39sqwekA0CQ2KCxzAMqBu4jXDhC0tWNBwBKj46k2crSqcESeijSntNCoHOPq8ysiCjwsEbqy/LVDK7eqn4fzPv/hz9EzT//NExMYQKJJwAN7wTHp9+aVz3FxzQrp/XP83LEYgp1vU5n/////1w9V4ZRAJCNGEGr1P6ShhuKYEG0qWmZRRnGpQ0KP6IgTaiCAoOEYwvFAiRUUZEfQA1CPHpgGrGbZZ//NExNgQ6JZwAN6eTGvTHIAEIFSTcunKftyxh+6SH1VvbgjncWsnIuTo5PAJZ+kc53THjOGVWXkiikipw63nhn93/e7PEby7Qif////rZpErUTarVwho1oyzWg0LSWzw//NExOcXGXqAAN5GlCv8ICJuAScMXnBmCZUWxaCy+piATmxt4Cz7+X4ZEAcMMI0zTWioZGBKzp10WkSmmiD7xTnWgw6f3/URJiZCibTFJYSMhUUifuisx7uW+NepThsp//NExN0fOcaMAN5SlMNaIiNRvbr+vCepYJRGZBsIhZp/////+urD9SUGFefCVoygbci5p2i/HbiRpkxBxFPNsBDCLG3pTmWphVpWUl72bocQVZj5JCOEFuz1hL7n8wYE//NExLMeEcKcANaSlEzb01bzP873q8Kd6q6wiQfWHIsxDbouFmviMRpZ4FFEjF2V/jNCCC3sfh0wUn9V14F4bz4SouYTgbfX0IQy4abkrL9vZukgNrX1JWkeLCuW59hr//NExI0W6SawAMZecELXdQku6xu2OFe4ysoJj2QiBUszEztjDtbda3OzTi938sRLuZ6Ic7bqJuCVp+1hKom9CPiaurSgYA81qONbCpUDaCythFGQ3YDZDRTlWPMtMU4h//NExIQXIb6oAMaOlYCQ6PyuJZIEZHtHrfPW+dyczct85M5uPWEwaDA9v+noPKPV2dS119yCSZNm46AcmVV1piQ0+aq5y+ZoKw55BRBgKEFX1o0TRKAlgm5SjgEIL6yQ//NExHoTISK0AH4YcGGdZ4t1YIQBgHSXXF9SGrKiUCGV6/vtsSaX9CrD6EKnV7uVoV0lhIdLiRx8QjjEEBRBT42NEkhQDMXllpfRLVG4YQJEGhLtfVr1C/MPWa2V/Qo8//NExIASCKqsAMYeTCbgCkshP2zbAqsuhn6E6LbdFd7uD0M9tVK19gwyLgWq/oeaWyI6pVjdxBBK60qHAs1tkKC4smrvFA3zHcfuZd1jrWXfTr///r0O7hhR6XMchaFk//NExIoSGKqkAMYwTDCRw1pchfzrg4qd+sCs5PTFzB6LCHiNaFwAFOIaoh0UOSzlg03PyoGJJnYPGAyaS0z2l+5jr7vP/H/y//bf/p//+qDlw7emRW5NKQKqW9Z1kOpa//NExJQSmUqgAMYElBG3aek1EIfaIFPlRRkVRCEo3JTTjRJjQgLCoZQRixHmT3OpFxRhBtYtNN2O/ctb3l3//98///////6ORQrgI+Ka5J7NdtyqbclPD/lowMcRsUgM//NExJwSgU6UAM5ElOueBYyAgSgq8i+C+p5YM3QHvlQAZZLDwWi48gUPPIIdmFu1blLh93K8TSWj/9S2rYLPJLmpEmza3/TJrNJ7Omp3IZFSAP27yiZvRO3RBeBj7uAA//NExKUSgV6MAM4ElODsrJYLgShcsF+kUvEZHLgAGAUnC4g0HVyjHhEtbf//+wNhWmyQDa3p/+YrOr5Gjt8dEg8Uy8RBDIGWIPMQBXFh4AmnmpRIRcpDQgxOxOjhDAJV//NExK4R0JaEAM5wTCqFpw5Y6Q9MkGNj7WTWz///////aYwYxJW19OGVRtff+LNCi6dNppEYiI4YXLIXDpQbPbZVI4+YBaXDliQOZIRF04JYDQLG4LB+bHIgsQ2nYOn8//NExLkQcIaAAM5wSL0/pmZVPVLf////R2Z9b8M7mEXkjz//yR7pBB0dEeyYLfslly7WfCgSywZkU+OWH1RJYRmdQkRCMjBOOkyqS6Sj0KycHspETJkJC6bar/6DQVFA//NExMoSaZ58ANQElHA8PBkSPxKKs2/xatUrXKE+gJlufqar/CplRpVsuNoVkMILsxKFG2FQwwXOymc26GerCi4K/UlquEFD4MVpNKebKFwYadLoU8LVTh0I0sFclT2I//NExNMRwZpwAMsElNynrSVmX7zB+/SqFeSzc/NF43srcwHVULH1YLktiklJZRRKpK5aW8BDBaGNgw8BpKoDKUdwQtKV4Ro41QVATyICJZ06BUB0yenmSpUVdvPXmmEp//NExN8RULYkAMMSTKK3ulYyxMJNT6icl9UBQ8jQNuJiEskukmlOLKKtSSJxooSBkE0FokgUUUfDxedmvKmpOEgZiaG5RpxVw8Xm//KmnOLLi82akoRhkyAhf//4prFR//NExOwUCRYIAHpGcGmgKKewy4WFxGZMhJn6xVVMQU1FMy4xMDBVVVVVVVVVVVVVVVVVVVVVVVVVVVVVVVVVVVVVVVVVVVVVVVVVVVVVVVVVVVVVVVVVVVVVTEFNRTMu//NExO4VOR30AHpGcDEwMFVVVVVVVVVVVVVVVVVVVVVVVVVVVVVVVVVVVVVVVVVVVVVVVVVVVVVVVVVVVVVVVVVVVVVVVVVVVVVVVVVVVVVVVVVVVVVVVVVVTEFNRTMu//NExOwVUWmkAEmMlDEwMFVVVVVVVVVVVVVVVVVVVVVVVVVVVVVVVVVVVVVVVVVVVVVVVVVVVVVVVVVVVVVVVVVVVVVVVVVVVVVVVVVVVVVVVVVVVVVVVVVVTEFNRTMu//NExKwAAANIAAAAADEwMFVVVVVVVVVVVVVVVVVVVVVVVVVVVVVVVVVVVVVVVVVVVVVVVVVVVVVVVVVVVVVVVVVVVVVVVVVVVVVVVVVVVVVVVVVVVVVVVVVVTEFNRTMu//NExKwAAANIAAAAADEwMFVVVVVVVVVVVVVVVVVVVVVVVVVVVVVVVVVVVVVVVVVVVVVVVVVVVVVVVVVVVVVVVVVVVVVVVVVVVVVVVVVVVVVVVVVVVVVVVVVVTEFNRTMu//NExKwAAANIAAAAADEwMFVVVVVVVVVVVVVVVVVVVVVVVVVVVVVVVVVVVVVVVVVVVVVVVVVVVVVVVVVVVVVVVVVVVVVVVVVVVVVVVVVVVVVVVVVVVVVVVVVVTEFNRTMu//NExKwAAANIAAAAADEwMFVVVVVVVVVVVVVVVVVVVVVVVVVVVVVVVVVVVVVVVVVVVVVVVVVVVVVVVVVVVVVVVVVVVVVVVVVVVVVVVVVVVVVVVVVVVVVVVVVVTEFNRTMu//NExKwAAANIAAAAADEwMFVVVVVVVVVVVVVVVVVVVVVVVVVVVVVVVVVVVVVVVVVVVVVVVVVVVVVVVVVVVVVVVVVVVVVVVVVVVVVVVVVVVVVVVVVVVVVVVVVVTEFNRTMu//NExKwAAANIAAAAADEwMFVVVVVVVVVVVVVVVVVVVVVVVVVVVVVVVVVVVVVVVVVVVVVVVVVVVVVVVVVVVVVVVVVVVVVVVVVVVVVVVVVVVVVVVVVVVVVVVVVVTEFNRTMu//NExKwAAANIAAAAADEwMFVVVVVVVVVVVVVVVVVVVVVVVVVVVVVVVVVVVVVVVVVVVVVVVVVVVVVVVVVVVVVVVVVVVVVVVVVVVVVVVVVVVVVVVVVVVVVVVVVVTEFNRTMu//NExKwAAANIAAAAADEwMFVVVVVVVVVVVVVVVVVVVVVVVVVVVVVVVVVVVVVVVVVVVVVVVVVVVVVVVVVVVVVVVVVVVVVVVVVVVVVVVVVVVVVVVVVVVVVVVVVVTEFNRTMu//NExKwAAANIAAAAADEwMFVVVVVVVVVVVVVVVVVVVVVVVVVVVVVVVVVVVVVVVVVVVVVVVVVVVVVVVVVVVVVVVVVVVVVVVVVVVVVVVVVVVVVVVVVVVVVVVVVVTEFNRTMu//NExKwAAANIAAAAADEwMFVVVVVVVVVVVVVVVVVVVVVVVVVVVVVVVVVVVVVVVVVVVVVVVVVVVVVVVVVVVVVVVVVVVVVVVVVVVVVVVVVVVVVVVVVVVVVVVVVVVVVVVVVV//NExKwAAANIAAAAAFVVVVVVVVVVVVVVVVVVVVVVVVVVVVVVVVVVVVVVVVVVVVVVVVVVVVVVVVVVVVVVVVVVVVVVVVVVVVVVVVVVVVVVVVVVVVVVVVVVVVVVVVVVVVVV//NExKwAAANIAAAAAFVVVVVVVVVVVVVVVVVVVVVVVVVVVVVVVVVVVVVVVVVVVVVVVVVVVVVVVVVVVVVVVVVVVVVVVVVVVVVVVVVVVVVVVVVVVVVVVVVVVVVVVVVVVVVV\" type=\"audio/mpeg\" />\n",
              "                    Your browser does not support the audio element.\n",
              "                </audio>\n",
              "              "
            ]
          },
          "metadata": {}
        }
      ]
    },
    {
      "cell_type": "markdown",
      "source": [
        "## Audio Question"
      ],
      "metadata": {
        "id": "57aTk4sN8QvU"
      }
    },
    {
      "cell_type": "code",
      "source": [
        "!pip install gradio"
      ],
      "metadata": {
        "colab": {
          "base_uri": "https://localhost:8080/"
        },
        "id": "7Hgnxn4BEefw",
        "outputId": "7e0e8988-1ae3-43b3-9e54-ec0ad3abdd19"
      },
      "execution_count": 8,
      "outputs": [
        {
          "output_type": "stream",
          "name": "stdout",
          "text": [
            "Collecting gradio\n",
            "  Downloading gradio-4.29.0-py3-none-any.whl (12.3 MB)\n",
            "\u001b[2K     \u001b[90m━━━━━━━━━━━━━━━━━━━━━━━━━━━━━━━━━━━━━━━━\u001b[0m \u001b[32m12.3/12.3 MB\u001b[0m \u001b[31m37.6 MB/s\u001b[0m eta \u001b[36m0:00:00\u001b[0m\n",
            "\u001b[?25hCollecting aiofiles<24.0,>=22.0 (from gradio)\n",
            "  Downloading aiofiles-23.2.1-py3-none-any.whl (15 kB)\n",
            "Requirement already satisfied: altair<6.0,>=4.2.0 in /usr/local/lib/python3.10/dist-packages (from gradio) (4.2.2)\n",
            "Collecting fastapi (from gradio)\n",
            "  Downloading fastapi-0.111.0-py3-none-any.whl (91 kB)\n",
            "\u001b[2K     \u001b[90m━━━━━━━━━━━━━━━━━━━━━━━━━━━━━━━━━━━━━━━━\u001b[0m \u001b[32m92.0/92.0 kB\u001b[0m \u001b[31m13.0 MB/s\u001b[0m eta \u001b[36m0:00:00\u001b[0m\n",
            "\u001b[?25hCollecting ffmpy (from gradio)\n",
            "  Downloading ffmpy-0.3.2.tar.gz (5.5 kB)\n",
            "  Preparing metadata (setup.py) ... \u001b[?25l\u001b[?25hdone\n",
            "Collecting gradio-client==0.16.1 (from gradio)\n",
            "  Downloading gradio_client-0.16.1-py3-none-any.whl (314 kB)\n",
            "\u001b[2K     \u001b[90m━━━━━━━━━━━━━━━━━━━━━━━━━━━━━━━━━━━━━━━━\u001b[0m \u001b[32m314.6/314.6 kB\u001b[0m \u001b[31m33.1 MB/s\u001b[0m eta \u001b[36m0:00:00\u001b[0m\n",
            "\u001b[?25hCollecting httpx>=0.24.1 (from gradio)\n",
            "  Downloading httpx-0.27.0-py3-none-any.whl (75 kB)\n",
            "\u001b[2K     \u001b[90m━━━━━━━━━━━━━━━━━━━━━━━━━━━━━━━━━━━━━━━━\u001b[0m \u001b[32m75.6/75.6 kB\u001b[0m \u001b[31m10.6 MB/s\u001b[0m eta \u001b[36m0:00:00\u001b[0m\n",
            "\u001b[?25hRequirement already satisfied: huggingface-hub>=0.19.3 in /usr/local/lib/python3.10/dist-packages (from gradio) (0.20.3)\n",
            "Requirement already satisfied: importlib-resources<7.0,>=1.3 in /usr/local/lib/python3.10/dist-packages (from gradio) (6.4.0)\n",
            "Requirement already satisfied: jinja2<4.0 in /usr/local/lib/python3.10/dist-packages (from gradio) (3.1.3)\n",
            "Requirement already satisfied: markupsafe~=2.0 in /usr/local/lib/python3.10/dist-packages (from gradio) (2.1.5)\n",
            "Requirement already satisfied: matplotlib~=3.0 in /usr/local/lib/python3.10/dist-packages (from gradio) (3.7.1)\n",
            "Requirement already satisfied: numpy~=1.0 in /usr/local/lib/python3.10/dist-packages (from gradio) (1.25.2)\n",
            "Collecting orjson~=3.0 (from gradio)\n",
            "  Downloading orjson-3.10.3-cp310-cp310-manylinux_2_17_x86_64.manylinux2014_x86_64.whl (142 kB)\n",
            "\u001b[2K     \u001b[90m━━━━━━━━━━━━━━━━━━━━━━━━━━━━━━━━━━━━━━━━\u001b[0m \u001b[32m142.5/142.5 kB\u001b[0m \u001b[31m19.4 MB/s\u001b[0m eta \u001b[36m0:00:00\u001b[0m\n",
            "\u001b[?25hRequirement already satisfied: packaging in /usr/local/lib/python3.10/dist-packages (from gradio) (24.0)\n",
            "Requirement already satisfied: pandas<3.0,>=1.0 in /usr/local/lib/python3.10/dist-packages (from gradio) (2.0.3)\n",
            "Requirement already satisfied: pillow<11.0,>=8.0 in /usr/local/lib/python3.10/dist-packages (from gradio) (9.4.0)\n",
            "Requirement already satisfied: pydantic>=2.0 in /usr/local/lib/python3.10/dist-packages (from gradio) (2.7.1)\n",
            "Collecting pydub (from gradio)\n",
            "  Downloading pydub-0.25.1-py2.py3-none-any.whl (32 kB)\n",
            "Collecting python-multipart>=0.0.9 (from gradio)\n",
            "  Downloading python_multipart-0.0.9-py3-none-any.whl (22 kB)\n",
            "Requirement already satisfied: pyyaml<7.0,>=5.0 in /usr/local/lib/python3.10/dist-packages (from gradio) (6.0.1)\n",
            "Collecting ruff>=0.2.2 (from gradio)\n",
            "  Downloading ruff-0.4.3-py3-none-manylinux_2_17_x86_64.manylinux2014_x86_64.whl (8.7 MB)\n",
            "\u001b[2K     \u001b[90m━━━━━━━━━━━━━━━━━━━━━━━━━━━━━━━━━━━━━━━━\u001b[0m \u001b[32m8.7/8.7 MB\u001b[0m \u001b[31m62.6 MB/s\u001b[0m eta \u001b[36m0:00:00\u001b[0m\n",
            "\u001b[?25hCollecting semantic-version~=2.0 (from gradio)\n",
            "  Downloading semantic_version-2.10.0-py2.py3-none-any.whl (15 kB)\n",
            "Collecting tomlkit==0.12.0 (from gradio)\n",
            "  Downloading tomlkit-0.12.0-py3-none-any.whl (37 kB)\n",
            "Collecting typer<1.0,>=0.12 (from gradio)\n",
            "  Downloading typer-0.12.3-py3-none-any.whl (47 kB)\n",
            "\u001b[2K     \u001b[90m━━━━━━━━━━━━━━━━━━━━━━━━━━━━━━━━━━━━━━━━\u001b[0m \u001b[32m47.2/47.2 kB\u001b[0m \u001b[31m5.7 MB/s\u001b[0m eta \u001b[36m0:00:00\u001b[0m\n",
            "\u001b[?25hRequirement already satisfied: typing-extensions~=4.0 in /usr/local/lib/python3.10/dist-packages (from gradio) (4.11.0)\n",
            "Requirement already satisfied: urllib3~=2.0 in /usr/local/lib/python3.10/dist-packages (from gradio) (2.0.7)\n",
            "Collecting uvicorn>=0.14.0 (from gradio)\n",
            "  Downloading uvicorn-0.29.0-py3-none-any.whl (60 kB)\n",
            "\u001b[2K     \u001b[90m━━━━━━━━━━━━━━━━━━━━━━━━━━━━━━━━━━━━━━━━\u001b[0m \u001b[32m60.8/60.8 kB\u001b[0m \u001b[31m7.3 MB/s\u001b[0m eta \u001b[36m0:00:00\u001b[0m\n",
            "\u001b[?25hRequirement already satisfied: fsspec in /usr/local/lib/python3.10/dist-packages (from gradio-client==0.16.1->gradio) (2023.6.0)\n",
            "Collecting websockets<12.0,>=10.0 (from gradio-client==0.16.1->gradio)\n",
            "  Downloading websockets-11.0.3-cp310-cp310-manylinux_2_5_x86_64.manylinux1_x86_64.manylinux_2_17_x86_64.manylinux2014_x86_64.whl (129 kB)\n",
            "\u001b[2K     \u001b[90m━━━━━━━━━━━━━━━━━━━━━━━━━━━━━━━━━━━━━━━━\u001b[0m \u001b[32m129.9/129.9 kB\u001b[0m \u001b[31m16.0 MB/s\u001b[0m eta \u001b[36m0:00:00\u001b[0m\n",
            "\u001b[?25hRequirement already satisfied: entrypoints in /usr/local/lib/python3.10/dist-packages (from altair<6.0,>=4.2.0->gradio) (0.4)\n",
            "Requirement already satisfied: jsonschema>=3.0 in /usr/local/lib/python3.10/dist-packages (from altair<6.0,>=4.2.0->gradio) (4.19.2)\n",
            "Requirement already satisfied: toolz in /usr/local/lib/python3.10/dist-packages (from altair<6.0,>=4.2.0->gradio) (0.12.1)\n",
            "Requirement already satisfied: anyio in /usr/local/lib/python3.10/dist-packages (from httpx>=0.24.1->gradio) (3.7.1)\n",
            "Requirement already satisfied: certifi in /usr/local/lib/python3.10/dist-packages (from httpx>=0.24.1->gradio) (2024.2.2)\n",
            "Collecting httpcore==1.* (from httpx>=0.24.1->gradio)\n",
            "  Downloading httpcore-1.0.5-py3-none-any.whl (77 kB)\n",
            "\u001b[2K     \u001b[90m━━━━━━━━━━━━━━━━━━━━━━━━━━━━━━━━━━━━━━━━\u001b[0m \u001b[32m77.9/77.9 kB\u001b[0m \u001b[31m10.3 MB/s\u001b[0m eta \u001b[36m0:00:00\u001b[0m\n",
            "\u001b[?25hRequirement already satisfied: idna in /usr/local/lib/python3.10/dist-packages (from httpx>=0.24.1->gradio) (3.7)\n",
            "Requirement already satisfied: sniffio in /usr/local/lib/python3.10/dist-packages (from httpx>=0.24.1->gradio) (1.3.1)\n",
            "Collecting h11<0.15,>=0.13 (from httpcore==1.*->httpx>=0.24.1->gradio)\n",
            "  Downloading h11-0.14.0-py3-none-any.whl (58 kB)\n",
            "\u001b[2K     \u001b[90m━━━━━━━━━━━━━━━━━━━━━━━━━━━━━━━━━━━━━━━━\u001b[0m \u001b[32m58.3/58.3 kB\u001b[0m \u001b[31m7.0 MB/s\u001b[0m eta \u001b[36m0:00:00\u001b[0m\n",
            "\u001b[?25hRequirement already satisfied: filelock in /usr/local/lib/python3.10/dist-packages (from huggingface-hub>=0.19.3->gradio) (3.14.0)\n",
            "Requirement already satisfied: requests in /usr/local/lib/python3.10/dist-packages (from huggingface-hub>=0.19.3->gradio) (2.31.0)\n",
            "Requirement already satisfied: tqdm>=4.42.1 in /usr/local/lib/python3.10/dist-packages (from huggingface-hub>=0.19.3->gradio) (4.66.2)\n",
            "Requirement already satisfied: contourpy>=1.0.1 in /usr/local/lib/python3.10/dist-packages (from matplotlib~=3.0->gradio) (1.2.1)\n",
            "Requirement already satisfied: cycler>=0.10 in /usr/local/lib/python3.10/dist-packages (from matplotlib~=3.0->gradio) (0.12.1)\n",
            "Requirement already satisfied: fonttools>=4.22.0 in /usr/local/lib/python3.10/dist-packages (from matplotlib~=3.0->gradio) (4.51.0)\n",
            "Requirement already satisfied: kiwisolver>=1.0.1 in /usr/local/lib/python3.10/dist-packages (from matplotlib~=3.0->gradio) (1.4.5)\n",
            "Requirement already satisfied: pyparsing>=2.3.1 in /usr/local/lib/python3.10/dist-packages (from matplotlib~=3.0->gradio) (3.1.2)\n",
            "Requirement already satisfied: python-dateutil>=2.7 in /usr/local/lib/python3.10/dist-packages (from matplotlib~=3.0->gradio) (2.8.2)\n",
            "Requirement already satisfied: pytz>=2020.1 in /usr/local/lib/python3.10/dist-packages (from pandas<3.0,>=1.0->gradio) (2023.4)\n",
            "Requirement already satisfied: tzdata>=2022.1 in /usr/local/lib/python3.10/dist-packages (from pandas<3.0,>=1.0->gradio) (2024.1)\n",
            "Requirement already satisfied: annotated-types>=0.4.0 in /usr/local/lib/python3.10/dist-packages (from pydantic>=2.0->gradio) (0.6.0)\n",
            "Requirement already satisfied: pydantic-core==2.18.2 in /usr/local/lib/python3.10/dist-packages (from pydantic>=2.0->gradio) (2.18.2)\n",
            "Requirement already satisfied: click>=8.0.0 in /usr/local/lib/python3.10/dist-packages (from typer<1.0,>=0.12->gradio) (8.1.7)\n",
            "Collecting shellingham>=1.3.0 (from typer<1.0,>=0.12->gradio)\n",
            "  Downloading shellingham-1.5.4-py2.py3-none-any.whl (9.8 kB)\n",
            "Requirement already satisfied: rich>=10.11.0 in /usr/local/lib/python3.10/dist-packages (from typer<1.0,>=0.12->gradio) (13.7.1)\n",
            "Collecting starlette<0.38.0,>=0.37.2 (from fastapi->gradio)\n",
            "  Downloading starlette-0.37.2-py3-none-any.whl (71 kB)\n",
            "\u001b[2K     \u001b[90m━━━━━━━━━━━━━━━━━━━━━━━━━━━━━━━━━━━━━━━━\u001b[0m \u001b[32m71.9/71.9 kB\u001b[0m \u001b[31m7.7 MB/s\u001b[0m eta \u001b[36m0:00:00\u001b[0m\n",
            "\u001b[?25hCollecting fastapi-cli>=0.0.2 (from fastapi->gradio)\n",
            "  Downloading fastapi_cli-0.0.2-py3-none-any.whl (9.1 kB)\n",
            "Collecting ujson!=4.0.2,!=4.1.0,!=4.2.0,!=4.3.0,!=5.0.0,!=5.1.0,>=4.0.1 (from fastapi->gradio)\n",
            "  Downloading ujson-5.9.0-cp310-cp310-manylinux_2_17_x86_64.manylinux2014_x86_64.whl (53 kB)\n",
            "\u001b[2K     \u001b[90m━━━━━━━━━━━━━━━━━━━━━━━━━━━━━━━━━━━━━━━━\u001b[0m \u001b[32m53.2/53.2 kB\u001b[0m \u001b[31m7.0 MB/s\u001b[0m eta \u001b[36m0:00:00\u001b[0m\n",
            "\u001b[?25hCollecting email_validator>=2.0.0 (from fastapi->gradio)\n",
            "  Downloading email_validator-2.1.1-py3-none-any.whl (30 kB)\n",
            "Collecting dnspython>=2.0.0 (from email_validator>=2.0.0->fastapi->gradio)\n",
            "  Downloading dnspython-2.6.1-py3-none-any.whl (307 kB)\n",
            "\u001b[2K     \u001b[90m━━━━━━━━━━━━━━━━━━━━━━━━━━━━━━━━━━━━━━━━\u001b[0m \u001b[32m307.7/307.7 kB\u001b[0m \u001b[31m27.5 MB/s\u001b[0m eta \u001b[36m0:00:00\u001b[0m\n",
            "\u001b[?25hRequirement already satisfied: attrs>=22.2.0 in /usr/local/lib/python3.10/dist-packages (from jsonschema>=3.0->altair<6.0,>=4.2.0->gradio) (23.2.0)\n",
            "Requirement already satisfied: jsonschema-specifications>=2023.03.6 in /usr/local/lib/python3.10/dist-packages (from jsonschema>=3.0->altair<6.0,>=4.2.0->gradio) (2023.12.1)\n",
            "Requirement already satisfied: referencing>=0.28.4 in /usr/local/lib/python3.10/dist-packages (from jsonschema>=3.0->altair<6.0,>=4.2.0->gradio) (0.35.0)\n",
            "Requirement already satisfied: rpds-py>=0.7.1 in /usr/local/lib/python3.10/dist-packages (from jsonschema>=3.0->altair<6.0,>=4.2.0->gradio) (0.18.0)\n",
            "Requirement already satisfied: six>=1.5 in /usr/local/lib/python3.10/dist-packages (from python-dateutil>=2.7->matplotlib~=3.0->gradio) (1.16.0)\n",
            "Requirement already satisfied: markdown-it-py>=2.2.0 in /usr/local/lib/python3.10/dist-packages (from rich>=10.11.0->typer<1.0,>=0.12->gradio) (3.0.0)\n",
            "Requirement already satisfied: pygments<3.0.0,>=2.13.0 in /usr/local/lib/python3.10/dist-packages (from rich>=10.11.0->typer<1.0,>=0.12->gradio) (2.16.1)\n",
            "Requirement already satisfied: exceptiongroup in /usr/local/lib/python3.10/dist-packages (from anyio->httpx>=0.24.1->gradio) (1.2.1)\n",
            "Collecting httptools>=0.5.0 (from uvicorn>=0.14.0->gradio)\n",
            "  Downloading httptools-0.6.1-cp310-cp310-manylinux_2_5_x86_64.manylinux1_x86_64.manylinux_2_17_x86_64.manylinux2014_x86_64.whl (341 kB)\n",
            "\u001b[2K     \u001b[90m━━━━━━━━━━━━━━━━━━━━━━━━━━━━━━━━━━━━━━━━\u001b[0m \u001b[32m341.4/341.4 kB\u001b[0m \u001b[31m39.0 MB/s\u001b[0m eta \u001b[36m0:00:00\u001b[0m\n",
            "\u001b[?25hCollecting python-dotenv>=0.13 (from uvicorn>=0.14.0->gradio)\n",
            "  Downloading python_dotenv-1.0.1-py3-none-any.whl (19 kB)\n",
            "Collecting uvloop!=0.15.0,!=0.15.1,>=0.14.0 (from uvicorn>=0.14.0->gradio)\n",
            "  Downloading uvloop-0.19.0-cp310-cp310-manylinux_2_17_x86_64.manylinux2014_x86_64.whl (3.4 MB)\n",
            "\u001b[2K     \u001b[90m━━━━━━━━━━━━━━━━━━━━━━━━━━━━━━━━━━━━━━━━\u001b[0m \u001b[32m3.4/3.4 MB\u001b[0m \u001b[31m87.7 MB/s\u001b[0m eta \u001b[36m0:00:00\u001b[0m\n",
            "\u001b[?25hCollecting watchfiles>=0.13 (from uvicorn>=0.14.0->gradio)\n",
            "  Downloading watchfiles-0.21.0-cp310-cp310-manylinux_2_17_x86_64.manylinux2014_x86_64.whl (1.3 MB)\n",
            "\u001b[2K     \u001b[90m━━━━━━━━━━━━━━━━━━━━━━━━━━━━━━━━━━━━━━━━\u001b[0m \u001b[32m1.3/1.3 MB\u001b[0m \u001b[31m70.6 MB/s\u001b[0m eta \u001b[36m0:00:00\u001b[0m\n",
            "\u001b[?25hRequirement already satisfied: charset-normalizer<4,>=2 in /usr/local/lib/python3.10/dist-packages (from requests->huggingface-hub>=0.19.3->gradio) (3.3.2)\n",
            "Requirement already satisfied: mdurl~=0.1 in /usr/local/lib/python3.10/dist-packages (from markdown-it-py>=2.2.0->rich>=10.11.0->typer<1.0,>=0.12->gradio) (0.1.2)\n",
            "Building wheels for collected packages: ffmpy\n",
            "  Building wheel for ffmpy (setup.py) ... \u001b[?25l\u001b[?25hdone\n",
            "  Created wheel for ffmpy: filename=ffmpy-0.3.2-py3-none-any.whl size=5584 sha256=e696e53adbe82ab5ab6c4620fafcfc9b16eeb9663ea824c8a7ff07222965c203\n",
            "  Stored in directory: /root/.cache/pip/wheels/bd/65/9a/671fc6dcde07d4418df0c592f8df512b26d7a0029c2a23dd81\n",
            "Successfully built ffmpy\n",
            "Installing collected packages: pydub, ffmpy, websockets, uvloop, ujson, tomlkit, shellingham, semantic-version, ruff, python-multipart, python-dotenv, orjson, httptools, h11, dnspython, aiofiles, watchfiles, uvicorn, starlette, httpcore, email_validator, typer, httpx, gradio-client, fastapi-cli, fastapi, gradio\n",
            "  Attempting uninstall: typer\n",
            "    Found existing installation: typer 0.9.4\n",
            "    Uninstalling typer-0.9.4:\n",
            "      Successfully uninstalled typer-0.9.4\n",
            "\u001b[31mERROR: pip's dependency resolver does not currently take into account all the packages that are installed. This behaviour is the source of the following dependency conflicts.\n",
            "spacy 3.7.4 requires typer<0.10.0,>=0.3.0, but you have typer 0.12.3 which is incompatible.\n",
            "weasel 0.3.4 requires typer<0.10.0,>=0.3.0, but you have typer 0.12.3 which is incompatible.\u001b[0m\u001b[31m\n",
            "\u001b[0mSuccessfully installed aiofiles-23.2.1 dnspython-2.6.1 email_validator-2.1.1 fastapi-0.111.0 fastapi-cli-0.0.2 ffmpy-0.3.2 gradio-4.29.0 gradio-client-0.16.1 h11-0.14.0 httpcore-1.0.5 httptools-0.6.1 httpx-0.27.0 orjson-3.10.3 pydub-0.25.1 python-dotenv-1.0.1 python-multipart-0.0.9 ruff-0.4.3 semantic-version-2.10.0 shellingham-1.5.4 starlette-0.37.2 tomlkit-0.12.0 typer-0.12.3 ujson-5.9.0 uvicorn-0.29.0 uvloop-0.19.0 watchfiles-0.21.0 websockets-11.0.3\n"
          ]
        }
      ]
    },
    {
      "cell_type": "code",
      "source": [
        "!pip install gtts"
      ],
      "metadata": {
        "colab": {
          "base_uri": "https://localhost:8080/"
        },
        "id": "ngDFq41GEicq",
        "outputId": "d8b48f3e-569f-44b5-b68e-d865cb0a6cfb"
      },
      "execution_count": 9,
      "outputs": [
        {
          "output_type": "stream",
          "name": "stdout",
          "text": [
            "Requirement already satisfied: gtts in /usr/local/lib/python3.10/dist-packages (2.5.1)\n",
            "Requirement already satisfied: requests<3,>=2.27 in /usr/local/lib/python3.10/dist-packages (from gtts) (2.31.0)\n",
            "Requirement already satisfied: click<8.2,>=7.1 in /usr/local/lib/python3.10/dist-packages (from gtts) (8.1.7)\n",
            "Requirement already satisfied: charset-normalizer<4,>=2 in /usr/local/lib/python3.10/dist-packages (from requests<3,>=2.27->gtts) (3.3.2)\n",
            "Requirement already satisfied: idna<4,>=2.5 in /usr/local/lib/python3.10/dist-packages (from requests<3,>=2.27->gtts) (3.7)\n",
            "Requirement already satisfied: urllib3<3,>=1.21.1 in /usr/local/lib/python3.10/dist-packages (from requests<3,>=2.27->gtts) (2.0.7)\n",
            "Requirement already satisfied: certifi>=2017.4.17 in /usr/local/lib/python3.10/dist-packages (from requests<3,>=2.27->gtts) (2024.2.2)\n"
          ]
        }
      ]
    },
    {
      "cell_type": "code",
      "source": [
        "import gradio as gr\n",
        "from gtts import gTTS\n",
        "import os\n",
        "\n",
        "def text_to_speech(text, language):\n",
        "    lang_code = 'en' if language == \"English\" else 'ko'\n",
        "    tts = gTTS(text=text, lang=lang_code, slow=False)\n",
        "    tts.save(\"output.mp3\")\n",
        "    return \"output.mp3\"\n",
        "\n",
        "interface = gr.Interface(\n",
        "    fn=text_to_speech,\n",
        "    inputs=[\n",
        "        gr.Textbox(lines=3, label=\"Enter text\"),\n",
        "        gr.Radio(choices=[\"English\", \"Korean\"], label=\"Select language\")\n",
        "    ],\n",
        "    outputs=gr.Audio(type=\"filepath\", label=\"Audio\"),\n",
        "    title=\"Text-to-Speech\",\n",
        "    description=\"Type in some text, select a language, and generate audio.\",\n",
        ")\n",
        "\n",
        "interface.launch()"
      ],
      "metadata": {
        "id": "jpLfamZMP_m4",
        "outputId": "0d48a889-b559-402f-c2ac-c4d94231f551",
        "colab": {
          "base_uri": "https://localhost:8080/",
          "height": 649
        }
      },
      "execution_count": 10,
      "outputs": [
        {
          "output_type": "stream",
          "name": "stdout",
          "text": [
            "Setting queue=True in a Colab notebook requires sharing enabled. Setting `share=True` (you can turn this off by setting `share=False` in `launch()` explicitly).\n",
            "\n",
            "Colab notebook detected. To show errors in colab notebook, set debug=True in launch()\n",
            "Running on public URL: https://b6582ac7fdf62ca77d.gradio.live\n",
            "\n",
            "This share link expires in 72 hours. For free permanent hosting and GPU upgrades, run `gradio deploy` from Terminal to deploy to Spaces (https://huggingface.co/spaces)\n"
          ]
        },
        {
          "output_type": "display_data",
          "data": {
            "text/plain": [
              "<IPython.core.display.HTML object>"
            ],
            "text/html": [
              "<div><iframe src=\"https://b6582ac7fdf62ca77d.gradio.live\" width=\"100%\" height=\"500\" allow=\"autoplay; camera; microphone; clipboard-read; clipboard-write;\" frameborder=\"0\" allowfullscreen></iframe></div>"
            ]
          },
          "metadata": {}
        },
        {
          "output_type": "execute_result",
          "data": {
            "text/plain": []
          },
          "metadata": {},
          "execution_count": 10
        }
      ]
    },
    {
      "cell_type": "markdown",
      "source": [
        "## Countdown Question"
      ],
      "metadata": {
        "id": "woNeHWAB8j15"
      }
    },
    {
      "cell_type": "code",
      "source": [
        "import gradio as gr\n",
        "from datetime import datetime\n",
        "\n",
        "def countdown(target_date):\n",
        "    try:\n",
        "        # Parse the user input date\n",
        "        date_format = \"%Y-%m-%d\"\n",
        "        future_date = datetime.strptime(target_date, date_format)\n",
        "\n",
        "        # Get the current time\n",
        "        now = datetime.now()\n",
        "\n",
        "        # Calculate the difference between the future date and the current time\n",
        "        countdown = future_date - now\n",
        "\n",
        "        # Generate the countdown message\n",
        "        if countdown.days >= 0:\n",
        "            return f\"Time until {target_date}: \\n {countdown.days} days, {countdown.seconds//3600} hours, {(countdown.seconds//60)%60} minutes.\"\n",
        "        else:\n",
        "            return \"The specified date has already passed.\"\n",
        "    except ValueError:\n",
        "        return \"Please enter the date in YYYY-MM-DD format.\"\n",
        "\n",
        "# Create the Gradio interface\n",
        "interface = gr.Interface(\n",
        "    fn=countdown,\n",
        "    inputs=gr.Text(label=\"Enter a future date (e.g., 2024-12-25)\"),\n",
        "    outputs=\"text\",\n",
        "    title=\"날짜 카운트다운\",\n",
        "    description=\"지정된 날짜까지 얼마큼의 일자, 시간, 분이 남았는지 보려면 날짜를 입력하시오.\"\n",
        ")\n",
        "\n",
        "interface.launch()"
      ],
      "metadata": {
        "id": "uC2TVyWmRnAN",
        "outputId": "43aa9db7-e170-43fc-bd94-7b0c3326a4b7",
        "colab": {
          "base_uri": "https://localhost:8080/",
          "height": 649
        }
      },
      "execution_count": 12,
      "outputs": [
        {
          "output_type": "stream",
          "name": "stdout",
          "text": [
            "Setting queue=True in a Colab notebook requires sharing enabled. Setting `share=True` (you can turn this off by setting `share=False` in `launch()` explicitly).\n",
            "\n",
            "Colab notebook detected. To show errors in colab notebook, set debug=True in launch()\n",
            "Running on public URL: https://3b717faf3790594a9f.gradio.live\n",
            "\n",
            "This share link expires in 72 hours. For free permanent hosting and GPU upgrades, run `gradio deploy` from Terminal to deploy to Spaces (https://huggingface.co/spaces)\n"
          ]
        },
        {
          "output_type": "display_data",
          "data": {
            "text/plain": [
              "<IPython.core.display.HTML object>"
            ],
            "text/html": [
              "<div><iframe src=\"https://3b717faf3790594a9f.gradio.live\" width=\"100%\" height=\"500\" allow=\"autoplay; camera; microphone; clipboard-read; clipboard-write;\" frameborder=\"0\" allowfullscreen></iframe></div>"
            ]
          },
          "metadata": {}
        },
        {
          "output_type": "execute_result",
          "data": {
            "text/plain": []
          },
          "metadata": {},
          "execution_count": 12
        }
      ]
    }
  ]
}