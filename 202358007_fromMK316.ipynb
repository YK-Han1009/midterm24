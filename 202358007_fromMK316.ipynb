{
  "nbformat": 4,
  "nbformat_minor": 0,
  "metadata": {
    "colab": {
      "provenance": [],
      "include_colab_link": true
    },
    "kernelspec": {
      "name": "python3",
      "display_name": "Python 3"
    },
    "language_info": {
      "name": "python"
    }
  },
  "cells": [
    {
      "cell_type": "markdown",
      "metadata": {
        "id": "view-in-github",
        "colab_type": "text"
      },
      "source": [
        "<a href=\"https://colab.research.google.com/github/YK-Han1009/midterm24/blob/main/202358007_fromMK316.ipynb\" target=\"_parent\"><img src=\"https://colab.research.google.com/assets/colab-badge.svg\" alt=\"Open In Colab\"/></a>"
      ]
    },
    {
      "cell_type": "markdown",
      "source": [
        "# 🌀Midterm 2024: Yunkyeong Han (202358007)"
      ],
      "metadata": {
        "id": "UXiv1xTYuzx9"
      }
    },
    {
      "cell_type": "markdown",
      "source": [
        "## Name Question"
      ],
      "metadata": {
        "id": "mRgcnnktrX65"
      }
    },
    {
      "cell_type": "code",
      "source": [
        "# Name question\n",
        "x = \"My name is\"\n",
        "y = \"Yunkyeong\"\n",
        "print(x,y)"
      ],
      "metadata": {
        "colab": {
          "base_uri": "https://localhost:8080/"
        },
        "id": "_Y8p0hNhv1at",
        "outputId": "1fdef5b2-25ac-4eab-cfe3-e133fd410e86"
      },
      "execution_count": 1,
      "outputs": [
        {
          "output_type": "stream",
          "name": "stdout",
          "text": [
            "My name is Yunkyeong\n"
          ]
        }
      ]
    },
    {
      "cell_type": "markdown",
      "source": [
        "## Variable Question"
      ],
      "metadata": {
        "id": "7tef6pmVyPLa"
      }
    },
    {
      "cell_type": "code",
      "source": [
        "# 'Mary, 1998, Ohio; and John, 1999, Boston.'\n",
        "x = input('Name: ');y = input('Year you were born: '); z = input('Place you were born: ')\n",
        "print(x)\n",
        "print(y)\n",
        "print(z)\n",
        "print(f\"Hello, my name is {x}. I was born in {y}, and I'm from {z}. Nice to meet you.\")\n",
        "\n"
      ],
      "metadata": {
        "colab": {
          "base_uri": "https://localhost:8080/"
        },
        "id": "Qa3osBFwyRtf",
        "outputId": "1a451865-2a88-4256-a4e8-6f316142750a"
      },
      "execution_count": 2,
      "outputs": [
        {
          "output_type": "stream",
          "name": "stdout",
          "text": [
            "Name: Miran\n",
            "Year you were born: Seoul\n",
            "Place you were born: 1990\n",
            "Miran\n",
            "Seoul\n",
            "1990\n",
            "Hello, my name is Miran. I was born in Seoul, and I'm from 1990. Nice to meet you.\n"
          ]
        }
      ]
    },
    {
      "cell_type": "markdown",
      "source": [
        "## Index Qeustion"
      ],
      "metadata": {
        "id": "aQN9RGJA07SB"
      }
    },
    {
      "cell_type": "code",
      "source": [
        "# Dropdown\n",
        "\n",
        "cardinal_number = \"1\" #@param [\"1\",\"2\",\"3\",\"4\"]\n",
        "\n",
        "# Convert the selected number to an integer\n",
        "cardinal_number = int(cardinal_number)\n",
        "\n",
        "# Ordinal expression as a list\n",
        "words = [\"First\", \"Second\", \"Third\", \"Fourth\"]\n",
        "\n",
        "# Adjust the index to match the dropdown selection\n",
        "ordinal_index = cardinal_number - 1\n",
        "\n",
        "print(\"The ordinal expression:\", words[ordinal_index])\n"
      ],
      "metadata": {
        "colab": {
          "base_uri": "https://localhost:8080/"
        },
        "id": "sFyQNXG34EPU",
        "outputId": "7f7186cb-efec-4b46-a07d-6b9e9f57a13b"
      },
      "execution_count": 3,
      "outputs": [
        {
          "output_type": "stream",
          "name": "stdout",
          "text": [
            "The ordinal expression: First\n"
          ]
        }
      ]
    },
    {
      "cell_type": "markdown",
      "source": [
        "## Function Question"
      ],
      "metadata": {
        "id": "574cG6tJ4Lo8"
      }
    },
    {
      "cell_type": "code",
      "source": [
        "# Define a function for division\n",
        "def divide(x, y):\n",
        "    return x / y\n",
        "\n",
        "# Test the function\n",
        "result = divide(20, 4)\n",
        "print(\"The result of division is:\", result)\n"
      ],
      "metadata": {
        "colab": {
          "base_uri": "https://localhost:8080/"
        },
        "id": "qMRPBOzx5GHJ",
        "outputId": "bc100db4-3ef9-451b-ffcb-874a532d8f44"
      },
      "execution_count": 4,
      "outputs": [
        {
          "output_type": "stream",
          "name": "stdout",
          "text": [
            "The result of division is: 5.0\n"
          ]
        }
      ]
    },
    {
      "cell_type": "markdown",
      "source": [
        "## Dictionary Question"
      ],
      "metadata": {
        "id": "HmK4C9cF5OOP"
      }
    },
    {
      "cell_type": "code",
      "source": [
        "student_grades = {\"Alice\": 90, \"Bob\": 80, \"Charlie\": 95}\n",
        "\n",
        "# Print Bob's grade\n",
        "print(student_grades[\"Bob\"])\n"
      ],
      "metadata": {
        "colab": {
          "base_uri": "https://localhost:8080/"
        },
        "id": "SIJn51qt5Tpk",
        "outputId": "b07a83b5-31e3-465b-b508-44830bc18b8b"
      },
      "execution_count": 5,
      "outputs": [
        {
          "output_type": "stream",
          "name": "stdout",
          "text": [
            "80\n"
          ]
        }
      ]
    },
    {
      "cell_type": "markdown",
      "source": [
        "## GTTS Question"
      ],
      "metadata": {
        "id": "F9IbFNDO7UUu"
      }
    },
    {
      "cell_type": "code",
      "source": [
        "# First, install the gTTS library if you haven't already\n",
        "!pip install gTTS\n",
        "\n",
        "# Import the gTTS library\n",
        "from gtts import gTTS\n",
        "\n",
        "# Import IPython display module\n",
        "from IPython.display import Audio, display"
      ],
      "metadata": {
        "colab": {
          "base_uri": "https://localhost:8080/"
        },
        "id": "mWUu-fJl7lX_",
        "outputId": "afe15766-d37d-4556-8221-bdf5651915db"
      },
      "execution_count": 6,
      "outputs": [
        {
          "output_type": "stream",
          "name": "stdout",
          "text": [
            "Collecting gTTS\n",
            "  Downloading gTTS-2.5.1-py3-none-any.whl (29 kB)\n",
            "Requirement already satisfied: requests<3,>=2.27 in /usr/local/lib/python3.10/dist-packages (from gTTS) (2.31.0)\n",
            "Requirement already satisfied: click<8.2,>=7.1 in /usr/local/lib/python3.10/dist-packages (from gTTS) (8.1.7)\n",
            "Requirement already satisfied: charset-normalizer<4,>=2 in /usr/local/lib/python3.10/dist-packages (from requests<3,>=2.27->gTTS) (3.3.2)\n",
            "Requirement already satisfied: idna<4,>=2.5 in /usr/local/lib/python3.10/dist-packages (from requests<3,>=2.27->gTTS) (3.7)\n",
            "Requirement already satisfied: urllib3<3,>=1.21.1 in /usr/local/lib/python3.10/dist-packages (from requests<3,>=2.27->gTTS) (2.0.7)\n",
            "Requirement already satisfied: certifi>=2017.4.17 in /usr/local/lib/python3.10/dist-packages (from requests<3,>=2.27->gTTS) (2024.2.2)\n",
            "Installing collected packages: gTTS\n",
            "Successfully installed gTTS-2.5.1\n"
          ]
        }
      ]
    },
    {
      "cell_type": "code",
      "source": [
        "# Text to be converted to speech\n",
        "text = input()\n",
        "\n",
        "# Language in which you want to convert\n",
        "language = 'en'\n",
        "\n",
        "# Pass the text and language to the gTTS module\n",
        "speech = gTTS(text = text, lang = language, slow = False)\n",
        "\n",
        "# Save the converted audio file\n",
        "speech.save(\"output.mp3\")\n",
        "\n",
        "# Display the audio directly in the notebook\n",
        "display(Audio(\"output.mp3\", autoplay=True))"
      ],
      "metadata": {
        "colab": {
          "base_uri": "https://localhost:8080/",
          "height": 92
        },
        "id": "vgbYBvFC7q6E",
        "outputId": "09fefa7d-088d-4b0f-946a-f0d71ebfb5dd"
      },
      "execution_count": 7,
      "outputs": [
        {
          "name": "stdout",
          "output_type": "stream",
          "text": [
            "Wow, it works very well.\n"
          ]
        },
        {
          "output_type": "display_data",
          "data": {
            "text/plain": [
              "<IPython.lib.display.Audio object>"
            ],
            "text/html": [
              "\n",
              "                <audio  controls=\"controls\" autoplay=\"autoplay\">\n",
              "                    <source src=\"data:audio/mpeg;base64,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\" type=\"audio/mpeg\" />\n",
              "                    Your browser does not support the audio element.\n",
              "                </audio>\n",
              "              "
            ]
          },
          "metadata": {}
        }
      ]
    },
    {
      "cell_type": "markdown",
      "source": [
        "## Audio Question"
      ],
      "metadata": {
        "id": "57aTk4sN8QvU"
      }
    },
    {
      "cell_type": "code",
      "source": [
        "!pip install gradio"
      ],
      "metadata": {
        "id": "7Hgnxn4BEefw"
      },
      "execution_count": null,
      "outputs": []
    },
    {
      "cell_type": "code",
      "source": [
        "!pip install gtts"
      ],
      "metadata": {
        "colab": {
          "base_uri": "https://localhost:8080/"
        },
        "id": "ngDFq41GEicq",
        "outputId": "c7078d6a-b16f-414b-ba23-1656ecc08932"
      },
      "execution_count": 9,
      "outputs": [
        {
          "output_type": "stream",
          "name": "stdout",
          "text": [
            "Requirement already satisfied: gtts in /usr/local/lib/python3.10/dist-packages (2.5.1)\n",
            "Requirement already satisfied: requests<3,>=2.27 in /usr/local/lib/python3.10/dist-packages (from gtts) (2.31.0)\n",
            "Requirement already satisfied: click<8.2,>=7.1 in /usr/local/lib/python3.10/dist-packages (from gtts) (8.1.7)\n",
            "Requirement already satisfied: charset-normalizer<4,>=2 in /usr/local/lib/python3.10/dist-packages (from requests<3,>=2.27->gtts) (3.3.2)\n",
            "Requirement already satisfied: idna<4,>=2.5 in /usr/local/lib/python3.10/dist-packages (from requests<3,>=2.27->gtts) (3.7)\n",
            "Requirement already satisfied: urllib3<3,>=1.21.1 in /usr/local/lib/python3.10/dist-packages (from requests<3,>=2.27->gtts) (2.0.7)\n",
            "Requirement already satisfied: certifi>=2017.4.17 in /usr/local/lib/python3.10/dist-packages (from requests<3,>=2.27->gtts) (2024.2.2)\n"
          ]
        }
      ]
    },
    {
      "cell_type": "markdown",
      "source": [
        "## 😍 My comment: See my comment below; the code runs well now.\n",
        "\n",
        "The problem was in the last line. I've found that share=True is better set for this code line as known to yield an error in some cases. It would have been better if I had considered this point in advance and added an option. 😍\n",
        "\n",
        "```\n",
        "interface.launch(share=True)\n",
        "```\n",
        "\n",
        "More explanation on the error: Setting queue=True in a Colab notebook requires enabling sharing. To do this, set share=True (you can disable this by explicitly setting share=False in the launch() function)."
      ],
      "metadata": {
        "id": "bYv_lbmbPfEG"
      }
    },
    {
      "cell_type": "code",
      "source": [
        "import gradio as gr\n",
        "from gtts import gTTS\n",
        "import os\n",
        "\n",
        "def text_to_speech(text, language):\n",
        "    lang_code = 'en' if language == \"English\" else 'ko'\n",
        "    tts = gTTS(text=text, lang=lang_code, slow=False)\n",
        "    tts.save(\"output.mp3\")\n",
        "    return \"output.mp3\"\n",
        "\n",
        "interface = gr.Interface(\n",
        "    fn=text_to_speech,\n",
        "    inputs=[\n",
        "        gr.Textbox(lines=3, label=\"Enter text\"),\n",
        "        gr.Radio(choices=[\"English\", \"Korean\"], label=\"Select language\")\n",
        "    ],\n",
        "    outputs=gr.Audio(type=\"filepath\", label=\"Audio\"),\n",
        "    title=\"Text-to-Speech\",\n",
        "    description=\"Type in some text, select a language, and generate audio.\",\n",
        ")\n",
        "\n",
        "interface.launch(share=True)"
      ],
      "metadata": {
        "id": "GXPzjRGgPjDb",
        "outputId": "a7434a3f-3378-4f4f-a983-cc74d88d73de",
        "colab": {
          "base_uri": "https://localhost:8080/",
          "height": 594
        }
      },
      "execution_count": 11,
      "outputs": [
        {
          "output_type": "stream",
          "name": "stdout",
          "text": [
            "Colab notebook detected. To show errors in colab notebook, set debug=True in launch()\n",
            "Running on public URL: https://90c2ef4b3e35c58613.gradio.live\n",
            "\n",
            "This share link expires in 72 hours. For free permanent hosting and GPU upgrades, run `gradio deploy` from Terminal to deploy to Spaces (https://huggingface.co/spaces)\n"
          ]
        },
        {
          "output_type": "display_data",
          "data": {
            "text/plain": [
              "<IPython.core.display.HTML object>"
            ],
            "text/html": [
              "<div><iframe src=\"https://90c2ef4b3e35c58613.gradio.live\" width=\"100%\" height=\"500\" allow=\"autoplay; camera; microphone; clipboard-read; clipboard-write;\" frameborder=\"0\" allowfullscreen></iframe></div>"
            ]
          },
          "metadata": {}
        },
        {
          "output_type": "execute_result",
          "data": {
            "text/plain": []
          },
          "metadata": {},
          "execution_count": 11
        }
      ]
    },
    {
      "cell_type": "markdown",
      "source": [
        "## Countdown Question"
      ],
      "metadata": {
        "id": "woNeHWAB8j15"
      }
    },
    {
      "cell_type": "markdown",
      "source": [
        "---\n",
        "The end"
      ],
      "metadata": {
        "id": "z2PAdlKKQ5jR"
      }
    }
  ]
}