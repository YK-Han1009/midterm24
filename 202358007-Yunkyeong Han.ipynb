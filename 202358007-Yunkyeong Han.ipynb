{
  "nbformat": 4,
  "nbformat_minor": 0,
  "metadata": {
    "colab": {
      "provenance": [],
      "authorship_tag": "ABX9TyPE6Z23Ed4kOse5mmRAzQ1l",
      "include_colab_link": true
    },
    "kernelspec": {
      "name": "python3",
      "display_name": "Python 3"
    },
    "language_info": {
      "name": "python"
    }
  },
  "cells": [
    {
      "cell_type": "markdown",
      "metadata": {
        "id": "view-in-github",
        "colab_type": "text"
      },
      "source": [
        "<a href=\"https://colab.research.google.com/github/YK-Han1009/midterm24/blob/main/202358007-Yunkyeong%20Han.ipynb\" target=\"_parent\"><img src=\"https://colab.research.google.com/assets/colab-badge.svg\" alt=\"Open In Colab\"/></a>"
      ]
    },
    {
      "cell_type": "markdown",
      "source": [
        "# Question 1: Addition"
      ],
      "metadata": {
        "id": "mRgcnnktrX65"
      }
    },
    {
      "cell_type": "code",
      "source": [
        "number1 = 27\n",
        "number2 = 35\n",
        "sum = number1 + number2\n",
        "print(sum)"
      ],
      "metadata": {
        "colab": {
          "base_uri": "https://localhost:8080/"
        },
        "id": "TJmARxWZreNU",
        "outputId": "4da560d7-013c-4bea-cf25-51fd87954d36"
      },
      "execution_count": null,
      "outputs": [
        {
          "output_type": "stream",
          "name": "stdout",
          "text": [
            "62\n"
          ]
        }
      ]
    },
    {
      "cell_type": "markdown",
      "source": [
        "# Question 2:"
      ],
      "metadata": {
        "id": "f1tsmn7Htl6O"
      }
    },
    {
      "cell_type": "code",
      "source": [
        "number = 3\n",
        "x = 4\n",
        "print (x * number)"
      ],
      "metadata": {
        "colab": {
          "base_uri": "https://localhost:8080/"
        },
        "id": "dfTNHTW1stQ3",
        "outputId": "25a87f2c-5a3b-4840-a807-103fcdb2dab0"
      },
      "execution_count": null,
      "outputs": [
        {
          "output_type": "stream",
          "name": "stdout",
          "text": [
            "12\n"
          ]
        }
      ]
    },
    {
      "cell_type": "code",
      "source": [
        "number = input ()\n",
        "x = 4\n",
        "print (x * number)"
      ],
      "metadata": {
        "colab": {
          "base_uri": "https://localhost:8080/"
        },
        "id": "GrzPLYoGtreT",
        "outputId": "e243d988-9d3c-4a9e-e549-c92a19abe9c3"
      },
      "execution_count": null,
      "outputs": [
        {
          "output_type": "stream",
          "name": "stdout",
          "text": [
            "3\n",
            "3333\n"
          ]
        }
      ]
    }
  ]
}