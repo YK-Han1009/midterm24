{
  "nbformat": 4,
  "nbformat_minor": 0,
  "metadata": {
    "colab": {
      "provenance": [],
      "authorship_tag": "ABX9TyOtrnIcnX+uLHBlZaPF8JpS",
      "include_colab_link": true
    },
    "kernelspec": {
      "name": "python3",
      "display_name": "Python 3"
    },
    "language_info": {
      "name": "python"
    }
  },
  "cells": [
    {
      "cell_type": "markdown",
      "metadata": {
        "id": "view-in-github",
        "colab_type": "text"
      },
      "source": [
        "<a href=\"https://colab.research.google.com/github/YK-Han1009/midterm24/blob/main/202358007.ipynb\" target=\"_parent\"><img src=\"https://colab.research.google.com/assets/colab-badge.svg\" alt=\"Open In Colab\"/></a>"
      ]
    },
    {
      "cell_type": "markdown",
      "source": [
        "# 🌀Midterm 2024: Yunkyeong Han (202358007)"
      ],
      "metadata": {
        "id": "UXiv1xTYuzx9"
      }
    },
    {
      "cell_type": "markdown",
      "source": [
        "## Name Question"
      ],
      "metadata": {
        "id": "mRgcnnktrX65"
      }
    },
    {
      "cell_type": "code",
      "source": [
        "# Name question\n",
        "x = \"My name is\"\n",
        "y = \"Yunkyeong\"\n",
        "print(x,y)"
      ],
      "metadata": {
        "colab": {
          "base_uri": "https://localhost:8080/",
          "height": 0
        },
        "id": "_Y8p0hNhv1at",
        "outputId": "372f3be9-7fe2-4045-e64a-2c579fa11f88"
      },
      "execution_count": 7,
      "outputs": [
        {
          "output_type": "stream",
          "name": "stdout",
          "text": [
            "My name is Yunkyeong\n"
          ]
        }
      ]
    },
    {
      "cell_type": "markdown",
      "source": [
        "## Variable Question"
      ],
      "metadata": {
        "id": "7tef6pmVyPLa"
      }
    },
    {
      "cell_type": "code",
      "source": [
        "# 'Mary, 1998, Ohio; and John, 1999, Boston.'\n",
        "x = input('Name: ');y = input('Year you were born: '); z = input('Place you were born: ')\n",
        "print(x)\n",
        "print(y)\n",
        "print(z)\n",
        "print(f\"Hello, my name is {x}. I was born in {y}, and I'm from {z}. Nice to meet you.\")\n",
        "\n"
      ],
      "metadata": {
        "colab": {
          "base_uri": "https://localhost:8080/",
          "height": 0
        },
        "id": "Qa3osBFwyRtf",
        "outputId": "c68384ba-0cd2-445f-eae7-aff413d80206"
      },
      "execution_count": 8,
      "outputs": [
        {
          "output_type": "stream",
          "name": "stdout",
          "text": [
            "Name: Yunkyeong\n",
            "Year you were born: 1995\n",
            "Place you were born: Seoul\n",
            "Yunkyeong\n",
            "1995\n",
            "Seoul\n",
            "Hello, my name is Yunkyeong. I was born in 1995, and I'm from Seoul. Nice to meet you.\n"
          ]
        }
      ]
    },
    {
      "cell_type": "markdown",
      "source": [
        "## Index Qeustion"
      ],
      "metadata": {
        "id": "aQN9RGJA07SB"
      }
    },
    {
      "cell_type": "code",
      "source": [
        "# Dropdown\n",
        "\n",
        "cardinal_number = \"1\" #@param [\"1\",\"2\",\"3\",\"4\"]\n",
        "\n",
        "# Convert the selected number to an integer\n",
        "cardinal_number = int(cardinal_number)\n",
        "\n",
        "# Ordinal expression as a list\n",
        "words = [\"First\", \"Second\", \"Third\", \"Fourth\"]\n",
        "\n",
        "# Adjust the index to match the dropdown selection\n",
        "ordinal_index = cardinal_number - 1\n",
        "\n",
        "print(\"The ordinal expression:\", words[ordinal_index])\n"
      ],
      "metadata": {
        "colab": {
          "base_uri": "https://localhost:8080/",
          "height": 0
        },
        "id": "sFyQNXG34EPU",
        "outputId": "502bda2e-c585-46f1-c89e-a3a5774d6dba"
      },
      "execution_count": 14,
      "outputs": [
        {
          "output_type": "stream",
          "name": "stdout",
          "text": [
            "The ordinal expression: First\n"
          ]
        }
      ]
    },
    {
      "cell_type": "markdown",
      "source": [
        "## Function Question"
      ],
      "metadata": {
        "id": "574cG6tJ4Lo8"
      }
    },
    {
      "cell_type": "code",
      "source": [
        "# Define a function for division\n",
        "def divide(x, y):\n",
        "    return x / y\n",
        "\n",
        "# Test the function\n",
        "result = divide(20, 4)\n",
        "print(\"The result of division is:\", result)\n"
      ],
      "metadata": {
        "colab": {
          "base_uri": "https://localhost:8080/",
          "height": 0
        },
        "id": "qMRPBOzx5GHJ",
        "outputId": "0d5103b4-c64b-4b8a-b97d-c5e88f9bdb44"
      },
      "execution_count": 15,
      "outputs": [
        {
          "output_type": "stream",
          "name": "stdout",
          "text": [
            "The result of division is: 5.0\n"
          ]
        }
      ]
    },
    {
      "cell_type": "markdown",
      "source": [
        "## Dictionary Question"
      ],
      "metadata": {
        "id": "HmK4C9cF5OOP"
      }
    },
    {
      "cell_type": "code",
      "source": [
        "student_grades = {\"Alice\": 90, \"Bob\": 80, \"Charlie\": 95}\n",
        "\n",
        "# Print Bob's grade\n",
        "print(student_grades[\"Bob\"])\n"
      ],
      "metadata": {
        "colab": {
          "base_uri": "https://localhost:8080/",
          "height": 0
        },
        "id": "SIJn51qt5Tpk",
        "outputId": "d2ae0e45-6f5a-4f90-b3af-9fa50f59e4d3"
      },
      "execution_count": 19,
      "outputs": [
        {
          "output_type": "stream",
          "name": "stdout",
          "text": [
            "80\n"
          ]
        }
      ]
    },
    {
      "cell_type": "markdown",
      "source": [
        "## GTTS Question"
      ],
      "metadata": {
        "id": "F9IbFNDO7UUu"
      }
    },
    {
      "cell_type": "code",
      "source": [
        "# First, install the gTTS library if you haven't already\n",
        "!pip install gTTS\n",
        "\n",
        "# Import the gTTS library\n",
        "from gtts import gTTS\n",
        "\n",
        "# Import IPython display module\n",
        "from IPython.display import Audio, display"
      ],
      "metadata": {
        "colab": {
          "base_uri": "https://localhost:8080/",
          "height": 0
        },
        "id": "mWUu-fJl7lX_",
        "outputId": "99801a37-3ca1-4c5c-c751-4beecfe4d395"
      },
      "execution_count": 20,
      "outputs": [
        {
          "output_type": "stream",
          "name": "stdout",
          "text": [
            "Collecting gTTS\n",
            "  Downloading gTTS-2.5.1-py3-none-any.whl (29 kB)\n",
            "Requirement already satisfied: requests<3,>=2.27 in /usr/local/lib/python3.10/dist-packages (from gTTS) (2.31.0)\n",
            "Requirement already satisfied: click<8.2,>=7.1 in /usr/local/lib/python3.10/dist-packages (from gTTS) (8.1.7)\n",
            "Requirement already satisfied: charset-normalizer<4,>=2 in /usr/local/lib/python3.10/dist-packages (from requests<3,>=2.27->gTTS) (3.3.2)\n",
            "Requirement already satisfied: idna<4,>=2.5 in /usr/local/lib/python3.10/dist-packages (from requests<3,>=2.27->gTTS) (3.7)\n",
            "Requirement already satisfied: urllib3<3,>=1.21.1 in /usr/local/lib/python3.10/dist-packages (from requests<3,>=2.27->gTTS) (2.0.7)\n",
            "Requirement already satisfied: certifi>=2017.4.17 in /usr/local/lib/python3.10/dist-packages (from requests<3,>=2.27->gTTS) (2024.2.2)\n",
            "Installing collected packages: gTTS\n",
            "Successfully installed gTTS-2.5.1\n"
          ]
        }
      ]
    },
    {
      "cell_type": "code",
      "source": [
        "# Text to be converted to speech\n",
        "text = input()\n",
        "\n",
        "# Language in which you want to convert\n",
        "language = 'en'\n",
        "\n",
        "# Pass the text and language to the gTTS module\n",
        "speech = gTTS(text = text, lang = language, slow = False)\n",
        "\n",
        "# Save the converted audio file\n",
        "speech.save(\"output.mp3\")\n",
        "\n",
        "# Display the audio directly in the notebook\n",
        "display(Audio(\"output.mp3\", autoplay=True))"
      ],
      "metadata": {
        "colab": {
          "base_uri": "https://localhost:8080/",
          "height": 94
        },
        "id": "vgbYBvFC7q6E",
        "outputId": "0b2318a2-19cb-4924-993b-84874fc1bcd4"
      },
      "execution_count": 21,
      "outputs": [
        {
          "name": "stdout",
          "output_type": "stream",
          "text": [
            "I have succeeded in this task.\n"
          ]
        },
        {
          "output_type": "display_data",
          "data": {
            "text/plain": [
              "<IPython.lib.display.Audio object>"
            ],
            "text/html": [
              "\n",
              "                <audio  controls=\"controls\" autoplay=\"autoplay\">\n",
              "                    <source src=\"data:audio/mpeg;base64,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\" type=\"audio/mpeg\" />\n",
              "                    Your browser does not support the audio element.\n",
              "                </audio>\n",
              "              "
            ]
          },
          "metadata": {}
        }
      ]
    },
    {
      "cell_type": "markdown",
      "source": [
        "## Audio Question"
      ],
      "metadata": {
        "id": "57aTk4sN8QvU"
      }
    },
    {
      "cell_type": "code",
      "source": [
        "!pip install gradio"
      ],
      "metadata": {
        "colab": {
          "base_uri": "https://localhost:8080/",
          "height": 0
        },
        "id": "7Hgnxn4BEefw",
        "outputId": "ec8bb316-b0d6-4a4d-b128-067e1733ebaf"
      },
      "execution_count": 40,
      "outputs": [
        {
          "output_type": "stream",
          "name": "stdout",
          "text": [
            "Requirement already satisfied: gradio in /usr/local/lib/python3.10/dist-packages (4.28.3)\n",
            "Requirement already satisfied: aiofiles<24.0,>=22.0 in /usr/local/lib/python3.10/dist-packages (from gradio) (23.2.1)\n",
            "Requirement already satisfied: altair<6.0,>=4.2.0 in /usr/local/lib/python3.10/dist-packages (from gradio) (4.2.2)\n",
            "Requirement already satisfied: fastapi in /usr/local/lib/python3.10/dist-packages (from gradio) (0.110.3)\n",
            "Requirement already satisfied: ffmpy in /usr/local/lib/python3.10/dist-packages (from gradio) (0.3.2)\n",
            "Requirement already satisfied: gradio-client==0.16.0 in /usr/local/lib/python3.10/dist-packages (from gradio) (0.16.0)\n",
            "Requirement already satisfied: httpx>=0.24.1 in /usr/local/lib/python3.10/dist-packages (from gradio) (0.27.0)\n",
            "Requirement already satisfied: huggingface-hub>=0.19.3 in /usr/local/lib/python3.10/dist-packages (from gradio) (0.20.3)\n",
            "Requirement already satisfied: importlib-resources<7.0,>=1.3 in /usr/local/lib/python3.10/dist-packages (from gradio) (6.4.0)\n",
            "Requirement already satisfied: jinja2<4.0 in /usr/local/lib/python3.10/dist-packages (from gradio) (3.1.3)\n",
            "Requirement already satisfied: markupsafe~=2.0 in /usr/local/lib/python3.10/dist-packages (from gradio) (2.1.5)\n",
            "Requirement already satisfied: matplotlib~=3.0 in /usr/local/lib/python3.10/dist-packages (from gradio) (3.7.1)\n",
            "Requirement already satisfied: numpy~=1.0 in /usr/local/lib/python3.10/dist-packages (from gradio) (1.25.2)\n",
            "Requirement already satisfied: orjson~=3.0 in /usr/local/lib/python3.10/dist-packages (from gradio) (3.10.1)\n",
            "Requirement already satisfied: packaging in /usr/local/lib/python3.10/dist-packages (from gradio) (24.0)\n",
            "Requirement already satisfied: pandas<3.0,>=1.0 in /usr/local/lib/python3.10/dist-packages (from gradio) (2.0.3)\n",
            "Requirement already satisfied: pillow<11.0,>=8.0 in /usr/local/lib/python3.10/dist-packages (from gradio) (9.4.0)\n",
            "Requirement already satisfied: pydantic>=2.0 in /usr/local/lib/python3.10/dist-packages (from gradio) (2.7.0)\n",
            "Requirement already satisfied: pydub in /usr/local/lib/python3.10/dist-packages (from gradio) (0.25.1)\n",
            "Requirement already satisfied: python-multipart>=0.0.9 in /usr/local/lib/python3.10/dist-packages (from gradio) (0.0.9)\n",
            "Requirement already satisfied: pyyaml<7.0,>=5.0 in /usr/local/lib/python3.10/dist-packages (from gradio) (6.0.1)\n",
            "Requirement already satisfied: ruff>=0.2.2 in /usr/local/lib/python3.10/dist-packages (from gradio) (0.4.2)\n",
            "Requirement already satisfied: semantic-version~=2.0 in /usr/local/lib/python3.10/dist-packages (from gradio) (2.10.0)\n",
            "Requirement already satisfied: tomlkit==0.12.0 in /usr/local/lib/python3.10/dist-packages (from gradio) (0.12.0)\n",
            "Requirement already satisfied: typer<1.0,>=0.12 in /usr/local/lib/python3.10/dist-packages (from gradio) (0.12.3)\n",
            "Requirement already satisfied: typing-extensions~=4.0 in /usr/local/lib/python3.10/dist-packages (from gradio) (4.11.0)\n",
            "Requirement already satisfied: urllib3~=2.0 in /usr/local/lib/python3.10/dist-packages (from gradio) (2.0.7)\n",
            "Requirement already satisfied: uvicorn>=0.14.0 in /usr/local/lib/python3.10/dist-packages (from gradio) (0.29.0)\n",
            "Requirement already satisfied: fsspec in /usr/local/lib/python3.10/dist-packages (from gradio-client==0.16.0->gradio) (2023.6.0)\n",
            "Requirement already satisfied: websockets<12.0,>=10.0 in /usr/local/lib/python3.10/dist-packages (from gradio-client==0.16.0->gradio) (11.0.3)\n",
            "Requirement already satisfied: entrypoints in /usr/local/lib/python3.10/dist-packages (from altair<6.0,>=4.2.0->gradio) (0.4)\n",
            "Requirement already satisfied: jsonschema>=3.0 in /usr/local/lib/python3.10/dist-packages (from altair<6.0,>=4.2.0->gradio) (4.19.2)\n",
            "Requirement already satisfied: toolz in /usr/local/lib/python3.10/dist-packages (from altair<6.0,>=4.2.0->gradio) (0.12.1)\n",
            "Requirement already satisfied: anyio in /usr/local/lib/python3.10/dist-packages (from httpx>=0.24.1->gradio) (3.7.1)\n",
            "Requirement already satisfied: certifi in /usr/local/lib/python3.10/dist-packages (from httpx>=0.24.1->gradio) (2024.2.2)\n",
            "Requirement already satisfied: httpcore==1.* in /usr/local/lib/python3.10/dist-packages (from httpx>=0.24.1->gradio) (1.0.5)\n",
            "Requirement already satisfied: idna in /usr/local/lib/python3.10/dist-packages (from httpx>=0.24.1->gradio) (3.7)\n",
            "Requirement already satisfied: sniffio in /usr/local/lib/python3.10/dist-packages (from httpx>=0.24.1->gradio) (1.3.1)\n",
            "Requirement already satisfied: h11<0.15,>=0.13 in /usr/local/lib/python3.10/dist-packages (from httpcore==1.*->httpx>=0.24.1->gradio) (0.14.0)\n",
            "Requirement already satisfied: filelock in /usr/local/lib/python3.10/dist-packages (from huggingface-hub>=0.19.3->gradio) (3.13.4)\n",
            "Requirement already satisfied: requests in /usr/local/lib/python3.10/dist-packages (from huggingface-hub>=0.19.3->gradio) (2.31.0)\n",
            "Requirement already satisfied: tqdm>=4.42.1 in /usr/local/lib/python3.10/dist-packages (from huggingface-hub>=0.19.3->gradio) (4.66.2)\n",
            "Requirement already satisfied: contourpy>=1.0.1 in /usr/local/lib/python3.10/dist-packages (from matplotlib~=3.0->gradio) (1.2.1)\n",
            "Requirement already satisfied: cycler>=0.10 in /usr/local/lib/python3.10/dist-packages (from matplotlib~=3.0->gradio) (0.12.1)\n",
            "Requirement already satisfied: fonttools>=4.22.0 in /usr/local/lib/python3.10/dist-packages (from matplotlib~=3.0->gradio) (4.51.0)\n",
            "Requirement already satisfied: kiwisolver>=1.0.1 in /usr/local/lib/python3.10/dist-packages (from matplotlib~=3.0->gradio) (1.4.5)\n",
            "Requirement already satisfied: pyparsing>=2.3.1 in /usr/local/lib/python3.10/dist-packages (from matplotlib~=3.0->gradio) (3.1.2)\n",
            "Requirement already satisfied: python-dateutil>=2.7 in /usr/local/lib/python3.10/dist-packages (from matplotlib~=3.0->gradio) (2.8.2)\n",
            "Requirement already satisfied: pytz>=2020.1 in /usr/local/lib/python3.10/dist-packages (from pandas<3.0,>=1.0->gradio) (2023.4)\n",
            "Requirement already satisfied: tzdata>=2022.1 in /usr/local/lib/python3.10/dist-packages (from pandas<3.0,>=1.0->gradio) (2024.1)\n",
            "Requirement already satisfied: annotated-types>=0.4.0 in /usr/local/lib/python3.10/dist-packages (from pydantic>=2.0->gradio) (0.6.0)\n",
            "Requirement already satisfied: pydantic-core==2.18.1 in /usr/local/lib/python3.10/dist-packages (from pydantic>=2.0->gradio) (2.18.1)\n",
            "Requirement already satisfied: click>=8.0.0 in /usr/local/lib/python3.10/dist-packages (from typer<1.0,>=0.12->gradio) (8.1.7)\n",
            "Requirement already satisfied: shellingham>=1.3.0 in /usr/local/lib/python3.10/dist-packages (from typer<1.0,>=0.12->gradio) (1.5.4)\n",
            "Requirement already satisfied: rich>=10.11.0 in /usr/local/lib/python3.10/dist-packages (from typer<1.0,>=0.12->gradio) (13.7.1)\n",
            "Requirement already satisfied: starlette<0.38.0,>=0.37.2 in /usr/local/lib/python3.10/dist-packages (from fastapi->gradio) (0.37.2)\n",
            "Requirement already satisfied: attrs>=22.2.0 in /usr/local/lib/python3.10/dist-packages (from jsonschema>=3.0->altair<6.0,>=4.2.0->gradio) (23.2.0)\n",
            "Requirement already satisfied: jsonschema-specifications>=2023.03.6 in /usr/local/lib/python3.10/dist-packages (from jsonschema>=3.0->altair<6.0,>=4.2.0->gradio) (2023.12.1)\n",
            "Requirement already satisfied: referencing>=0.28.4 in /usr/local/lib/python3.10/dist-packages (from jsonschema>=3.0->altair<6.0,>=4.2.0->gradio) (0.34.0)\n",
            "Requirement already satisfied: rpds-py>=0.7.1 in /usr/local/lib/python3.10/dist-packages (from jsonschema>=3.0->altair<6.0,>=4.2.0->gradio) (0.18.0)\n",
            "Requirement already satisfied: six>=1.5 in /usr/local/lib/python3.10/dist-packages (from python-dateutil>=2.7->matplotlib~=3.0->gradio) (1.16.0)\n",
            "Requirement already satisfied: markdown-it-py>=2.2.0 in /usr/local/lib/python3.10/dist-packages (from rich>=10.11.0->typer<1.0,>=0.12->gradio) (3.0.0)\n",
            "Requirement already satisfied: pygments<3.0.0,>=2.13.0 in /usr/local/lib/python3.10/dist-packages (from rich>=10.11.0->typer<1.0,>=0.12->gradio) (2.16.1)\n",
            "Requirement already satisfied: exceptiongroup in /usr/local/lib/python3.10/dist-packages (from anyio->httpx>=0.24.1->gradio) (1.2.1)\n",
            "Requirement already satisfied: charset-normalizer<4,>=2 in /usr/local/lib/python3.10/dist-packages (from requests->huggingface-hub>=0.19.3->gradio) (3.3.2)\n",
            "Requirement already satisfied: mdurl~=0.1 in /usr/local/lib/python3.10/dist-packages (from markdown-it-py>=2.2.0->rich>=10.11.0->typer<1.0,>=0.12->gradio) (0.1.2)\n"
          ]
        }
      ]
    },
    {
      "cell_type": "code",
      "source": [
        "!pip install gtts"
      ],
      "metadata": {
        "colab": {
          "base_uri": "https://localhost:8080/",
          "height": 0
        },
        "id": "ngDFq41GEicq",
        "outputId": "28535dc3-ae09-4c7d-acaa-b35ef31a3969"
      },
      "execution_count": 41,
      "outputs": [
        {
          "output_type": "stream",
          "name": "stdout",
          "text": [
            "Requirement already satisfied: gtts in /usr/local/lib/python3.10/dist-packages (2.5.1)\n",
            "Requirement already satisfied: requests<3,>=2.27 in /usr/local/lib/python3.10/dist-packages (from gtts) (2.31.0)\n",
            "Requirement already satisfied: click<8.2,>=7.1 in /usr/local/lib/python3.10/dist-packages (from gtts) (8.1.7)\n",
            "Requirement already satisfied: charset-normalizer<4,>=2 in /usr/local/lib/python3.10/dist-packages (from requests<3,>=2.27->gtts) (3.3.2)\n",
            "Requirement already satisfied: idna<4,>=2.5 in /usr/local/lib/python3.10/dist-packages (from requests<3,>=2.27->gtts) (3.7)\n",
            "Requirement already satisfied: urllib3<3,>=1.21.1 in /usr/local/lib/python3.10/dist-packages (from requests<3,>=2.27->gtts) (2.0.7)\n",
            "Requirement already satisfied: certifi>=2017.4.17 in /usr/local/lib/python3.10/dist-packages (from requests<3,>=2.27->gtts) (2024.2.2)\n"
          ]
        }
      ]
    },
    {
      "cell_type": "markdown",
      "source": [
        "## Countdown Question"
      ],
      "metadata": {
        "id": "woNeHWAB8j15"
      }
    }
  ]
}